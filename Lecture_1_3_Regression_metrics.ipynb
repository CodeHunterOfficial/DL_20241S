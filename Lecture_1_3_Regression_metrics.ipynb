{
  "nbformat": 4,
  "nbformat_minor": 0,
  "metadata": {
    "colab": {
      "provenance": [],
      "include_colab_link": true
    },
    "kernelspec": {
      "name": "python3",
      "display_name": "Python 3"
    },
    "language_info": {
      "name": "python"
    }
  },
  "cells": [
    {
      "cell_type": "markdown",
      "metadata": {
        "id": "view-in-github",
        "colab_type": "text"
      },
      "source": [
        "<a href=\"https://colab.research.google.com/github/CodeHunterOfficial/DL_20241S/blob/main/Lecture_1_3_Regression_metrics.ipynb\" target=\"_parent\"><img src=\"https://colab.research.google.com/assets/colab-badge.svg\" alt=\"Open In Colab\"/></a>"
      ]
    },
    {
      "cell_type": "markdown",
      "metadata": {
        "id": "DvIjeCH3AZqO"
      },
      "source": [
        "## Установка нужных версий библиотек"
      ]
    },
    {
      "cell_type": "code",
      "metadata": {
        "colab": {
          "base_uri": "https://localhost:8080/"
        },
        "id": "2aEQws1__x5W",
        "outputId": "f918dbc9-b79e-4bf0-85f8-a39bd4b3cfb6"
      },
      "source": [
        "!wget 'https://drive.google.com/uc?export=download&id=1oSFOP0j25OZAuhD8YXxyQXNTdr2lUdtn' -O requirements.txt"
      ],
      "execution_count": null,
      "outputs": [
        {
          "output_type": "stream",
          "text": [
            "--2021-08-02 08:00:15--  https://drive.google.com/uc?export=download&id=1oSFOP0j25OZAuhD8YXxyQXNTdr2lUdtn\n",
            "Resolving drive.google.com (drive.google.com)... 172.217.214.101, 172.217.214.138, 172.217.214.139, ...\n",
            "Connecting to drive.google.com (drive.google.com)|172.217.214.101|:443... connected.\n",
            "HTTP request sent, awaiting response... 302 Moved Temporarily\n",
            "Location: https://doc-0g-c0-docs.googleusercontent.com/docs/securesc/ha0ro937gcuc7l7deffksulhg5h7mbp1/t2sidnp5kpsvua6fslu0sgn9gsvfcadc/1627891200000/14904333240138417226/*/1oSFOP0j25OZAuhD8YXxyQXNTdr2lUdtn?e=download [following]\n",
            "Warning: wildcards not supported in HTTP.\n",
            "--2021-08-02 08:00:15--  https://doc-0g-c0-docs.googleusercontent.com/docs/securesc/ha0ro937gcuc7l7deffksulhg5h7mbp1/t2sidnp5kpsvua6fslu0sgn9gsvfcadc/1627891200000/14904333240138417226/*/1oSFOP0j25OZAuhD8YXxyQXNTdr2lUdtn?e=download\n",
            "Resolving doc-0g-c0-docs.googleusercontent.com (doc-0g-c0-docs.googleusercontent.com)... 209.85.147.132, 2607:f8b0:4001:c20::84\n",
            "Connecting to doc-0g-c0-docs.googleusercontent.com (doc-0g-c0-docs.googleusercontent.com)|209.85.147.132|:443... connected.\n",
            "HTTP request sent, awaiting response... 200 OK\n",
            "Length: 74 [text/plain]\n",
            "Saving to: ‘requirements.txt’\n",
            "\n",
            "requirements.txt    100%[===================>]      74  --.-KB/s    in 0s      \n",
            "\n",
            "2021-08-02 08:00:15 (4.22 MB/s) - ‘requirements.txt’ saved [74/74]\n",
            "\n"
          ],
          "name": "stdout"
        }
      ]
    },
    {
      "cell_type": "code",
      "metadata": {
        "colab": {
          "base_uri": "https://localhost:8080/"
        },
        "id": "IvqZRWioAeXH",
        "outputId": "08637b33-666c-4527-893d-51e665bf099c"
      },
      "source": [
        "!pip install -r requirements.txt"
      ],
      "execution_count": null,
      "outputs": [
        {
          "output_type": "stream",
          "text": [
            "Requirement already satisfied: scikit-learn==0.22.2.post1 in /usr/local/lib/python3.7/dist-packages (from -r requirements.txt (line 1)) (0.22.2.post1)\n",
            "Requirement already satisfied: pandas==1.1.5 in /usr/local/lib/python3.7/dist-packages (from -r requirements.txt (line 2)) (1.1.5)\n",
            "Requirement already satisfied: matplotlib==3.2.2 in /usr/local/lib/python3.7/dist-packages (from -r requirements.txt (line 3)) (3.2.2)\n",
            "Requirement already satisfied: numpy==1.19.5 in /usr/local/lib/python3.7/dist-packages (from -r requirements.txt (line 4)) (1.19.5)\n",
            "Requirement already satisfied: scipy>=0.17.0 in /usr/local/lib/python3.7/dist-packages (from scikit-learn==0.22.2.post1->-r requirements.txt (line 1)) (1.4.1)\n",
            "Requirement already satisfied: joblib>=0.11 in /usr/local/lib/python3.7/dist-packages (from scikit-learn==0.22.2.post1->-r requirements.txt (line 1)) (1.0.1)\n",
            "Requirement already satisfied: python-dateutil>=2.7.3 in /usr/local/lib/python3.7/dist-packages (from pandas==1.1.5->-r requirements.txt (line 2)) (2.8.1)\n",
            "Requirement already satisfied: pytz>=2017.2 in /usr/local/lib/python3.7/dist-packages (from pandas==1.1.5->-r requirements.txt (line 2)) (2018.9)\n",
            "Requirement already satisfied: cycler>=0.10 in /usr/local/lib/python3.7/dist-packages (from matplotlib==3.2.2->-r requirements.txt (line 3)) (0.10.0)\n",
            "Requirement already satisfied: pyparsing!=2.0.4,!=2.1.2,!=2.1.6,>=2.0.1 in /usr/local/lib/python3.7/dist-packages (from matplotlib==3.2.2->-r requirements.txt (line 3)) (2.4.7)\n",
            "Requirement already satisfied: kiwisolver>=1.0.1 in /usr/local/lib/python3.7/dist-packages (from matplotlib==3.2.2->-r requirements.txt (line 3)) (1.3.1)\n",
            "Requirement already satisfied: six in /usr/local/lib/python3.7/dist-packages (from cycler>=0.10->matplotlib==3.2.2->-r requirements.txt (line 3)) (1.15.0)\n"
          ],
          "name": "stdout"
        }
      ]
    },
    {
      "cell_type": "code",
      "metadata": {
        "id": "oseC_nj55T5A"
      },
      "source": [
        "import pandas as pd\n",
        "import numpy as np"
      ],
      "execution_count": null,
      "outputs": []
    },
    {
      "cell_type": "markdown",
      "metadata": {
        "id": "C-mDBnzI52x2"
      },
      "source": [
        "Метрики в машинном обучении нужны для того, чтобы оценивать качество работы модели, чтобы понимать, а насколько модель хорошо запомнила закономерности из обучающей выборки.  \n",
        "\n",
        "Сегодня будем рассматривать метрики для задачи регрессии - предсказания непрерывной целевой переменной. Для такой задачи хочется, чтобы наши модели предсказывали числа как можно ближе к истинным, чтобы отклонения реального значения и прогноза модели были минимальными.\n",
        "\n",
        "<img src='https://miro.medium.com/max/864/0*OVG0UBquPwSiwiUi' width=600>\n",
        "\n",
        "\n",
        "Для подсчета разных метрик регрессии возьмем данные из стандартных датасетов в `sklearn`."
      ]
    },
    {
      "cell_type": "markdown",
      "metadata": {
        "id": "RmcjY5KeviKG"
      },
      "source": [
        "## Получение данных"
      ]
    },
    {
      "cell_type": "markdown",
      "metadata": {
        "id": "VbgNr2MC7c9H"
      },
      "source": [
        "Будем работать с набором данных для задачи регрессии (целевая переменная - стоимость дома) `load_boston`, который можно получить из стандартных датасетов в `sklearn'e`."
      ]
    },
    {
      "cell_type": "markdown",
      "metadata": {
        "id": "6EXX7H5c7-YY"
      },
      "source": [
        "После `load_boston()` возвращается словарь с данными (`data`), целевой переменной (`target`), названиями характеристик в данных (`feature_names`) и описанием данных (`DESCR`)."
      ]
    },
    {
      "cell_type": "code",
      "metadata": {
        "colab": {
          "base_uri": "https://localhost:8080/"
        },
        "id": "0J3qAMg983tN",
        "outputId": "fbc7a889-7b6a-46db-d91b-4aa133716cda"
      },
      "source": [
        "from sklearn.datasets import load_boston\n",
        "\n",
        "data = load_boston()\n",
        "data.keys()"
      ],
      "execution_count": null,
      "outputs": [
        {
          "output_type": "execute_result",
          "data": {
            "text/plain": [
              "dict_keys(['data', 'target', 'feature_names', 'DESCR', 'filename'])"
            ]
          },
          "metadata": {
            "tags": []
          },
          "execution_count": 4
        }
      ]
    },
    {
      "cell_type": "code",
      "metadata": {
        "colab": {
          "base_uri": "https://localhost:8080/"
        },
        "id": "g67KwPb25bKl",
        "outputId": "0efdd651-28cb-4622-b4ae-9314ff0d5cd7"
      },
      "source": [
        "print(data.DESCR)"
      ],
      "execution_count": null,
      "outputs": [
        {
          "output_type": "stream",
          "text": [
            ".. _boston_dataset:\n",
            "\n",
            "Boston house prices dataset\n",
            "---------------------------\n",
            "\n",
            "**Data Set Characteristics:**  \n",
            "\n",
            "    :Number of Instances: 506 \n",
            "\n",
            "    :Number of Attributes: 13 numeric/categorical predictive. Median Value (attribute 14) is usually the target.\n",
            "\n",
            "    :Attribute Information (in order):\n",
            "        - CRIM     per capita crime rate by town\n",
            "        - ZN       proportion of residential land zoned for lots over 25,000 sq.ft.\n",
            "        - INDUS    proportion of non-retail business acres per town\n",
            "        - CHAS     Charles River dummy variable (= 1 if tract bounds river; 0 otherwise)\n",
            "        - NOX      nitric oxides concentration (parts per 10 million)\n",
            "        - RM       average number of rooms per dwelling\n",
            "        - AGE      proportion of owner-occupied units built prior to 1940\n",
            "        - DIS      weighted distances to five Boston employment centres\n",
            "        - RAD      index of accessibility to radial highways\n",
            "        - TAX      full-value property-tax rate per $10,000\n",
            "        - PTRATIO  pupil-teacher ratio by town\n",
            "        - B        1000(Bk - 0.63)^2 where Bk is the proportion of blacks by town\n",
            "        - LSTAT    % lower status of the population\n",
            "        - MEDV     Median value of owner-occupied homes in $1000's\n",
            "\n",
            "    :Missing Attribute Values: None\n",
            "\n",
            "    :Creator: Harrison, D. and Rubinfeld, D.L.\n",
            "\n",
            "This is a copy of UCI ML housing dataset.\n",
            "https://archive.ics.uci.edu/ml/machine-learning-databases/housing/\n",
            "\n",
            "\n",
            "This dataset was taken from the StatLib library which is maintained at Carnegie Mellon University.\n",
            "\n",
            "The Boston house-price data of Harrison, D. and Rubinfeld, D.L. 'Hedonic\n",
            "prices and the demand for clean air', J. Environ. Economics & Management,\n",
            "vol.5, 81-102, 1978.   Used in Belsley, Kuh & Welsch, 'Regression diagnostics\n",
            "...', Wiley, 1980.   N.B. Various transformations are used in the table on\n",
            "pages 244-261 of the latter.\n",
            "\n",
            "The Boston house-price data has been used in many machine learning papers that address regression\n",
            "problems.   \n",
            "     \n",
            ".. topic:: References\n",
            "\n",
            "   - Belsley, Kuh & Welsch, 'Regression diagnostics: Identifying Influential Data and Sources of Collinearity', Wiley, 1980. 244-261.\n",
            "   - Quinlan,R. (1993). Combining Instance-Based and Model-Based Learning. In Proceedings on the Tenth International Conference of Machine Learning, 236-243, University of Massachusetts, Amherst. Morgan Kaufmann.\n",
            "\n"
          ],
          "name": "stdout"
        }
      ]
    },
    {
      "cell_type": "code",
      "metadata": {
        "id": "xcUErwzA5j5I"
      },
      "source": [
        "X = data.data\n",
        "features = data.feature_names\n",
        "y = data.target"
      ],
      "execution_count": null,
      "outputs": []
    },
    {
      "cell_type": "markdown",
      "metadata": {
        "id": "wRP5LBDn8O4X"
      },
      "source": [
        "Из признаков (характеристик данных) и целевой переменной сформируем датафрейм, в качестве названий колонок возьмем названия признаков."
      ]
    },
    {
      "cell_type": "code",
      "metadata": {
        "colab": {
          "base_uri": "https://localhost:8080/",
          "height": 204
        },
        "id": "f1JuOirN6SJ9",
        "outputId": "f362af19-3c3f-45ac-c009-2d3fad93f675"
      },
      "source": [
        "df = pd.DataFrame(X, columns=features)\n",
        "df['target'] = y\n",
        "\n",
        "df.head()"
      ],
      "execution_count": null,
      "outputs": [
        {
          "output_type": "execute_result",
          "data": {
            "text/html": [
              "<div>\n",
              "<style scoped>\n",
              "    .dataframe tbody tr th:only-of-type {\n",
              "        vertical-align: middle;\n",
              "    }\n",
              "\n",
              "    .dataframe tbody tr th {\n",
              "        vertical-align: top;\n",
              "    }\n",
              "\n",
              "    .dataframe thead th {\n",
              "        text-align: right;\n",
              "    }\n",
              "</style>\n",
              "<table border=\"1\" class=\"dataframe\">\n",
              "  <thead>\n",
              "    <tr style=\"text-align: right;\">\n",
              "      <th></th>\n",
              "      <th>CRIM</th>\n",
              "      <th>ZN</th>\n",
              "      <th>INDUS</th>\n",
              "      <th>CHAS</th>\n",
              "      <th>NOX</th>\n",
              "      <th>RM</th>\n",
              "      <th>AGE</th>\n",
              "      <th>DIS</th>\n",
              "      <th>RAD</th>\n",
              "      <th>TAX</th>\n",
              "      <th>PTRATIO</th>\n",
              "      <th>B</th>\n",
              "      <th>LSTAT</th>\n",
              "      <th>target</th>\n",
              "    </tr>\n",
              "  </thead>\n",
              "  <tbody>\n",
              "    <tr>\n",
              "      <th>0</th>\n",
              "      <td>0.00632</td>\n",
              "      <td>18.0</td>\n",
              "      <td>2.31</td>\n",
              "      <td>0.0</td>\n",
              "      <td>0.538</td>\n",
              "      <td>6.575</td>\n",
              "      <td>65.2</td>\n",
              "      <td>4.0900</td>\n",
              "      <td>1.0</td>\n",
              "      <td>296.0</td>\n",
              "      <td>15.3</td>\n",
              "      <td>396.90</td>\n",
              "      <td>4.98</td>\n",
              "      <td>24.0</td>\n",
              "    </tr>\n",
              "    <tr>\n",
              "      <th>1</th>\n",
              "      <td>0.02731</td>\n",
              "      <td>0.0</td>\n",
              "      <td>7.07</td>\n",
              "      <td>0.0</td>\n",
              "      <td>0.469</td>\n",
              "      <td>6.421</td>\n",
              "      <td>78.9</td>\n",
              "      <td>4.9671</td>\n",
              "      <td>2.0</td>\n",
              "      <td>242.0</td>\n",
              "      <td>17.8</td>\n",
              "      <td>396.90</td>\n",
              "      <td>9.14</td>\n",
              "      <td>21.6</td>\n",
              "    </tr>\n",
              "    <tr>\n",
              "      <th>2</th>\n",
              "      <td>0.02729</td>\n",
              "      <td>0.0</td>\n",
              "      <td>7.07</td>\n",
              "      <td>0.0</td>\n",
              "      <td>0.469</td>\n",
              "      <td>7.185</td>\n",
              "      <td>61.1</td>\n",
              "      <td>4.9671</td>\n",
              "      <td>2.0</td>\n",
              "      <td>242.0</td>\n",
              "      <td>17.8</td>\n",
              "      <td>392.83</td>\n",
              "      <td>4.03</td>\n",
              "      <td>34.7</td>\n",
              "    </tr>\n",
              "    <tr>\n",
              "      <th>3</th>\n",
              "      <td>0.03237</td>\n",
              "      <td>0.0</td>\n",
              "      <td>2.18</td>\n",
              "      <td>0.0</td>\n",
              "      <td>0.458</td>\n",
              "      <td>6.998</td>\n",
              "      <td>45.8</td>\n",
              "      <td>6.0622</td>\n",
              "      <td>3.0</td>\n",
              "      <td>222.0</td>\n",
              "      <td>18.7</td>\n",
              "      <td>394.63</td>\n",
              "      <td>2.94</td>\n",
              "      <td>33.4</td>\n",
              "    </tr>\n",
              "    <tr>\n",
              "      <th>4</th>\n",
              "      <td>0.06905</td>\n",
              "      <td>0.0</td>\n",
              "      <td>2.18</td>\n",
              "      <td>0.0</td>\n",
              "      <td>0.458</td>\n",
              "      <td>7.147</td>\n",
              "      <td>54.2</td>\n",
              "      <td>6.0622</td>\n",
              "      <td>3.0</td>\n",
              "      <td>222.0</td>\n",
              "      <td>18.7</td>\n",
              "      <td>396.90</td>\n",
              "      <td>5.33</td>\n",
              "      <td>36.2</td>\n",
              "    </tr>\n",
              "  </tbody>\n",
              "</table>\n",
              "</div>"
            ],
            "text/plain": [
              "      CRIM    ZN  INDUS  CHAS    NOX  ...    TAX  PTRATIO       B  LSTAT  target\n",
              "0  0.00632  18.0   2.31   0.0  0.538  ...  296.0     15.3  396.90   4.98    24.0\n",
              "1  0.02731   0.0   7.07   0.0  0.469  ...  242.0     17.8  396.90   9.14    21.6\n",
              "2  0.02729   0.0   7.07   0.0  0.469  ...  242.0     17.8  392.83   4.03    34.7\n",
              "3  0.03237   0.0   2.18   0.0  0.458  ...  222.0     18.7  394.63   2.94    33.4\n",
              "4  0.06905   0.0   2.18   0.0  0.458  ...  222.0     18.7  396.90   5.33    36.2\n",
              "\n",
              "[5 rows x 14 columns]"
            ]
          },
          "metadata": {
            "tags": []
          },
          "execution_count": 7
        }
      ]
    },
    {
      "cell_type": "markdown",
      "metadata": {
        "id": "IjDfPqP9vmJl"
      },
      "source": [
        "## Обучение модели"
      ]
    },
    {
      "cell_type": "markdown",
      "metadata": {
        "id": "0YzNmTU377Y_"
      },
      "source": [
        "Возьмем линейную модель из `sklearn'a` и обучим на выборке.\n",
        "\n"
      ]
    },
    {
      "cell_type": "code",
      "metadata": {
        "colab": {
          "base_uri": "https://localhost:8080/"
        },
        "id": "vykLsbb60Cl0",
        "outputId": "f61aeb1c-20ac-4291-8dc0-6f56e539a509"
      },
      "source": [
        "from sklearn.linear_model import LinearRegression\n",
        "\n",
        "lr = LinearRegression()\n",
        "lr.fit(X, y)"
      ],
      "execution_count": null,
      "outputs": [
        {
          "output_type": "execute_result",
          "data": {
            "text/plain": [
              "LinearRegression(copy_X=True, fit_intercept=True, n_jobs=None, normalize=False)"
            ]
          },
          "metadata": {
            "tags": []
          },
          "execution_count": 8
        }
      ]
    },
    {
      "cell_type": "markdown",
      "metadata": {
        "id": "nsslHuuU8DCv"
      },
      "source": [
        "Теперь сделаем предсказания на всей выборке, чтобы понять, насколько хорошо модель научилась предсказывать стоимость дома."
      ]
    },
    {
      "cell_type": "code",
      "metadata": {
        "id": "Rm0Tg0Ch49QR"
      },
      "source": [
        "pred = lr.predict(X)"
      ],
      "execution_count": null,
      "outputs": []
    },
    {
      "cell_type": "markdown",
      "metadata": {
        "id": "dqhHoeahgeWc"
      },
      "source": [
        "## Метрики"
      ]
    },
    {
      "cell_type": "markdown",
      "metadata": {
        "id": "pfQH8RDc8K79"
      },
      "source": [
        "Выведем рядом истинные значения целевой переменной и предсказанные моделью значения стоимости дома."
      ]
    },
    {
      "cell_type": "code",
      "metadata": {
        "colab": {
          "base_uri": "https://localhost:8080/",
          "height": 419
        },
        "id": "XsG7aYds-XsT",
        "outputId": "f8f29f64-ce27-454a-cd2d-2e40fb7ae011"
      },
      "source": [
        "pred_df = pd.DataFrame({\n",
        "    'ground truth': y,\n",
        "    'prediction': pred\n",
        "})\n",
        "\n",
        "pred_df"
      ],
      "execution_count": null,
      "outputs": [
        {
          "output_type": "execute_result",
          "data": {
            "text/html": [
              "<div>\n",
              "<style scoped>\n",
              "    .dataframe tbody tr th:only-of-type {\n",
              "        vertical-align: middle;\n",
              "    }\n",
              "\n",
              "    .dataframe tbody tr th {\n",
              "        vertical-align: top;\n",
              "    }\n",
              "\n",
              "    .dataframe thead th {\n",
              "        text-align: right;\n",
              "    }\n",
              "</style>\n",
              "<table border=\"1\" class=\"dataframe\">\n",
              "  <thead>\n",
              "    <tr style=\"text-align: right;\">\n",
              "      <th></th>\n",
              "      <th>ground truth</th>\n",
              "      <th>prediction</th>\n",
              "    </tr>\n",
              "  </thead>\n",
              "  <tbody>\n",
              "    <tr>\n",
              "      <th>0</th>\n",
              "      <td>24.0</td>\n",
              "      <td>30.003843</td>\n",
              "    </tr>\n",
              "    <tr>\n",
              "      <th>1</th>\n",
              "      <td>21.6</td>\n",
              "      <td>25.025562</td>\n",
              "    </tr>\n",
              "    <tr>\n",
              "      <th>2</th>\n",
              "      <td>34.7</td>\n",
              "      <td>30.567597</td>\n",
              "    </tr>\n",
              "    <tr>\n",
              "      <th>3</th>\n",
              "      <td>33.4</td>\n",
              "      <td>28.607036</td>\n",
              "    </tr>\n",
              "    <tr>\n",
              "      <th>4</th>\n",
              "      <td>36.2</td>\n",
              "      <td>27.943524</td>\n",
              "    </tr>\n",
              "    <tr>\n",
              "      <th>...</th>\n",
              "      <td>...</td>\n",
              "      <td>...</td>\n",
              "    </tr>\n",
              "    <tr>\n",
              "      <th>501</th>\n",
              "      <td>22.4</td>\n",
              "      <td>23.533341</td>\n",
              "    </tr>\n",
              "    <tr>\n",
              "      <th>502</th>\n",
              "      <td>20.6</td>\n",
              "      <td>22.375719</td>\n",
              "    </tr>\n",
              "    <tr>\n",
              "      <th>503</th>\n",
              "      <td>23.9</td>\n",
              "      <td>27.627426</td>\n",
              "    </tr>\n",
              "    <tr>\n",
              "      <th>504</th>\n",
              "      <td>22.0</td>\n",
              "      <td>26.127967</td>\n",
              "    </tr>\n",
              "    <tr>\n",
              "      <th>505</th>\n",
              "      <td>11.9</td>\n",
              "      <td>22.344212</td>\n",
              "    </tr>\n",
              "  </tbody>\n",
              "</table>\n",
              "<p>506 rows × 2 columns</p>\n",
              "</div>"
            ],
            "text/plain": [
              "     ground truth  prediction\n",
              "0            24.0   30.003843\n",
              "1            21.6   25.025562\n",
              "2            34.7   30.567597\n",
              "3            33.4   28.607036\n",
              "4            36.2   27.943524\n",
              "..            ...         ...\n",
              "501          22.4   23.533341\n",
              "502          20.6   22.375719\n",
              "503          23.9   27.627426\n",
              "504          22.0   26.127967\n",
              "505          11.9   22.344212\n",
              "\n",
              "[506 rows x 2 columns]"
            ]
          },
          "metadata": {
            "tags": []
          },
          "execution_count": 10
        }
      ]
    },
    {
      "cell_type": "markdown",
      "metadata": {
        "id": "XbAHyoemGR6y"
      },
      "source": [
        "В первой строке должны были предсказать 24.0, а предсказали 30.003843, во второй строке истина 21.6, а модель сказала 25.025562, мы можем пройтись по каждому объекту и посмотреть, насколько близким оказался прогноз."
      ]
    },
    {
      "cell_type": "code",
      "metadata": {
        "colab": {
          "base_uri": "https://localhost:8080/",
          "height": 419
        },
        "id": "y5haII7dFpGq",
        "outputId": "4d20f3c0-3bb8-4bb6-fbc3-5767affd4a10"
      },
      "source": [
        "pred_df['difference'] = pred_df['prediction'] - pred_df['ground truth']\n",
        "pred_df"
      ],
      "execution_count": null,
      "outputs": [
        {
          "output_type": "execute_result",
          "data": {
            "text/html": [
              "<div>\n",
              "<style scoped>\n",
              "    .dataframe tbody tr th:only-of-type {\n",
              "        vertical-align: middle;\n",
              "    }\n",
              "\n",
              "    .dataframe tbody tr th {\n",
              "        vertical-align: top;\n",
              "    }\n",
              "\n",
              "    .dataframe thead th {\n",
              "        text-align: right;\n",
              "    }\n",
              "</style>\n",
              "<table border=\"1\" class=\"dataframe\">\n",
              "  <thead>\n",
              "    <tr style=\"text-align: right;\">\n",
              "      <th></th>\n",
              "      <th>ground truth</th>\n",
              "      <th>prediction</th>\n",
              "      <th>difference</th>\n",
              "    </tr>\n",
              "  </thead>\n",
              "  <tbody>\n",
              "    <tr>\n",
              "      <th>0</th>\n",
              "      <td>24.0</td>\n",
              "      <td>30.003843</td>\n",
              "      <td>6.003843</td>\n",
              "    </tr>\n",
              "    <tr>\n",
              "      <th>1</th>\n",
              "      <td>21.6</td>\n",
              "      <td>25.025562</td>\n",
              "      <td>3.425562</td>\n",
              "    </tr>\n",
              "    <tr>\n",
              "      <th>2</th>\n",
              "      <td>34.7</td>\n",
              "      <td>30.567597</td>\n",
              "      <td>-4.132403</td>\n",
              "    </tr>\n",
              "    <tr>\n",
              "      <th>3</th>\n",
              "      <td>33.4</td>\n",
              "      <td>28.607036</td>\n",
              "      <td>-4.792964</td>\n",
              "    </tr>\n",
              "    <tr>\n",
              "      <th>4</th>\n",
              "      <td>36.2</td>\n",
              "      <td>27.943524</td>\n",
              "      <td>-8.256476</td>\n",
              "    </tr>\n",
              "    <tr>\n",
              "      <th>...</th>\n",
              "      <td>...</td>\n",
              "      <td>...</td>\n",
              "      <td>...</td>\n",
              "    </tr>\n",
              "    <tr>\n",
              "      <th>501</th>\n",
              "      <td>22.4</td>\n",
              "      <td>23.533341</td>\n",
              "      <td>1.133341</td>\n",
              "    </tr>\n",
              "    <tr>\n",
              "      <th>502</th>\n",
              "      <td>20.6</td>\n",
              "      <td>22.375719</td>\n",
              "      <td>1.775719</td>\n",
              "    </tr>\n",
              "    <tr>\n",
              "      <th>503</th>\n",
              "      <td>23.9</td>\n",
              "      <td>27.627426</td>\n",
              "      <td>3.727426</td>\n",
              "    </tr>\n",
              "    <tr>\n",
              "      <th>504</th>\n",
              "      <td>22.0</td>\n",
              "      <td>26.127967</td>\n",
              "      <td>4.127967</td>\n",
              "    </tr>\n",
              "    <tr>\n",
              "      <th>505</th>\n",
              "      <td>11.9</td>\n",
              "      <td>22.344212</td>\n",
              "      <td>10.444212</td>\n",
              "    </tr>\n",
              "  </tbody>\n",
              "</table>\n",
              "<p>506 rows × 3 columns</p>\n",
              "</div>"
            ],
            "text/plain": [
              "     ground truth  prediction  difference\n",
              "0            24.0   30.003843    6.003843\n",
              "1            21.6   25.025562    3.425562\n",
              "2            34.7   30.567597   -4.132403\n",
              "3            33.4   28.607036   -4.792964\n",
              "4            36.2   27.943524   -8.256476\n",
              "..            ...         ...         ...\n",
              "501          22.4   23.533341    1.133341\n",
              "502          20.6   22.375719    1.775719\n",
              "503          23.9   27.627426    3.727426\n",
              "504          22.0   26.127967    4.127967\n",
              "505          11.9   22.344212   10.444212\n",
              "\n",
              "[506 rows x 3 columns]"
            ]
          },
          "metadata": {
            "tags": []
          },
          "execution_count": 11
        }
      ]
    },
    {
      "cell_type": "markdown",
      "metadata": {
        "id": "Rnu2sv90HT5y"
      },
      "source": [
        "Теперь в новом столбце есть разница между предсказанием и истиной. Можем в среднем узнать, насколько эта разница большая: просуммировать отклонения и поделить на количество строк, то есть на 506."
      ]
    },
    {
      "cell_type": "code",
      "metadata": {
        "colab": {
          "base_uri": "https://localhost:8080/"
        },
        "id": "vxU_yuHnIKVx",
        "outputId": "115d2339-64e9-40be-e32d-ebb8d3f44857"
      },
      "source": [
        "pred_df['difference'].sum() / pred_df.shape[0]"
      ],
      "execution_count": null,
      "outputs": [
        {
          "output_type": "execute_result",
          "data": {
            "text/plain": [
              "-3.3701631735656924e-16"
            ]
          },
          "metadata": {
            "tags": []
          },
          "execution_count": 12
        }
      ]
    },
    {
      "cell_type": "markdown",
      "metadata": {
        "id": "CjHqONrfIRWp"
      },
      "source": [
        "Получилось что-то очень маленькое, максимально приближенное к нулю, значит, что в среднем наши предсказания очень близки к истине, но это не так, ведь выше наблюдали, что предскания отклоняются от истины на приличные значения.  \n",
        "Усредненные отклонения в среднем дали такую маленькую ошибку из-за того, что разница может быть как положительной (если мы предсказали больше), так и отрицательной (если мы предсказали меньше), а когда мы суммируем положительные и отрицательные значения, они друг друга нивелируют, и по итогу получаем маленькую ошибку."
      ]
    },
    {
      "cell_type": "markdown",
      "metadata": {
        "id": "B4p4Ll6vHL93"
      },
      "source": [
        "Получается, что нужно избавиться от знака минуса в наших предсказаниях."
      ]
    },
    {
      "cell_type": "markdown",
      "metadata": {
        "id": "yxxGuQkWN1E-"
      },
      "source": [
        "### MAE"
      ]
    },
    {
      "cell_type": "markdown",
      "metadata": {
        "id": "hiqcTkzeN06Z"
      },
      "source": [
        " Можем брать абсолютные значения, то есть брать модуль числа:"
      ]
    },
    {
      "cell_type": "code",
      "metadata": {
        "colab": {
          "base_uri": "https://localhost:8080/",
          "height": 419
        },
        "id": "NKwiauA0Ja0d",
        "outputId": "a0eece0c-55a5-4179-9951-7b3acf89523c"
      },
      "source": [
        "pred_df['abs'] = abs(pred_df['prediction'] - pred_df['ground truth'])\n",
        "pred_df"
      ],
      "execution_count": null,
      "outputs": [
        {
          "output_type": "execute_result",
          "data": {
            "text/html": [
              "<div>\n",
              "<style scoped>\n",
              "    .dataframe tbody tr th:only-of-type {\n",
              "        vertical-align: middle;\n",
              "    }\n",
              "\n",
              "    .dataframe tbody tr th {\n",
              "        vertical-align: top;\n",
              "    }\n",
              "\n",
              "    .dataframe thead th {\n",
              "        text-align: right;\n",
              "    }\n",
              "</style>\n",
              "<table border=\"1\" class=\"dataframe\">\n",
              "  <thead>\n",
              "    <tr style=\"text-align: right;\">\n",
              "      <th></th>\n",
              "      <th>ground truth</th>\n",
              "      <th>prediction</th>\n",
              "      <th>difference</th>\n",
              "      <th>abs</th>\n",
              "    </tr>\n",
              "  </thead>\n",
              "  <tbody>\n",
              "    <tr>\n",
              "      <th>0</th>\n",
              "      <td>24.0</td>\n",
              "      <td>30.003843</td>\n",
              "      <td>6.003843</td>\n",
              "      <td>6.003843</td>\n",
              "    </tr>\n",
              "    <tr>\n",
              "      <th>1</th>\n",
              "      <td>21.6</td>\n",
              "      <td>25.025562</td>\n",
              "      <td>3.425562</td>\n",
              "      <td>3.425562</td>\n",
              "    </tr>\n",
              "    <tr>\n",
              "      <th>2</th>\n",
              "      <td>34.7</td>\n",
              "      <td>30.567597</td>\n",
              "      <td>-4.132403</td>\n",
              "      <td>4.132403</td>\n",
              "    </tr>\n",
              "    <tr>\n",
              "      <th>3</th>\n",
              "      <td>33.4</td>\n",
              "      <td>28.607036</td>\n",
              "      <td>-4.792964</td>\n",
              "      <td>4.792964</td>\n",
              "    </tr>\n",
              "    <tr>\n",
              "      <th>4</th>\n",
              "      <td>36.2</td>\n",
              "      <td>27.943524</td>\n",
              "      <td>-8.256476</td>\n",
              "      <td>8.256476</td>\n",
              "    </tr>\n",
              "    <tr>\n",
              "      <th>...</th>\n",
              "      <td>...</td>\n",
              "      <td>...</td>\n",
              "      <td>...</td>\n",
              "      <td>...</td>\n",
              "    </tr>\n",
              "    <tr>\n",
              "      <th>501</th>\n",
              "      <td>22.4</td>\n",
              "      <td>23.533341</td>\n",
              "      <td>1.133341</td>\n",
              "      <td>1.133341</td>\n",
              "    </tr>\n",
              "    <tr>\n",
              "      <th>502</th>\n",
              "      <td>20.6</td>\n",
              "      <td>22.375719</td>\n",
              "      <td>1.775719</td>\n",
              "      <td>1.775719</td>\n",
              "    </tr>\n",
              "    <tr>\n",
              "      <th>503</th>\n",
              "      <td>23.9</td>\n",
              "      <td>27.627426</td>\n",
              "      <td>3.727426</td>\n",
              "      <td>3.727426</td>\n",
              "    </tr>\n",
              "    <tr>\n",
              "      <th>504</th>\n",
              "      <td>22.0</td>\n",
              "      <td>26.127967</td>\n",
              "      <td>4.127967</td>\n",
              "      <td>4.127967</td>\n",
              "    </tr>\n",
              "    <tr>\n",
              "      <th>505</th>\n",
              "      <td>11.9</td>\n",
              "      <td>22.344212</td>\n",
              "      <td>10.444212</td>\n",
              "      <td>10.444212</td>\n",
              "    </tr>\n",
              "  </tbody>\n",
              "</table>\n",
              "<p>506 rows × 4 columns</p>\n",
              "</div>"
            ],
            "text/plain": [
              "     ground truth  prediction  difference        abs\n",
              "0            24.0   30.003843    6.003843   6.003843\n",
              "1            21.6   25.025562    3.425562   3.425562\n",
              "2            34.7   30.567597   -4.132403   4.132403\n",
              "3            33.4   28.607036   -4.792964   4.792964\n",
              "4            36.2   27.943524   -8.256476   8.256476\n",
              "..            ...         ...         ...        ...\n",
              "501          22.4   23.533341    1.133341   1.133341\n",
              "502          20.6   22.375719    1.775719   1.775719\n",
              "503          23.9   27.627426    3.727426   3.727426\n",
              "504          22.0   26.127967    4.127967   4.127967\n",
              "505          11.9   22.344212   10.444212  10.444212\n",
              "\n",
              "[506 rows x 4 columns]"
            ]
          },
          "metadata": {
            "tags": []
          },
          "execution_count": 13
        }
      ]
    },
    {
      "cell_type": "markdown",
      "metadata": {
        "id": "KL5Ip_pDJvnT"
      },
      "source": [
        "Теперь не будет такого, что отрицательные и положительные отклонения схлапываются в ноль.   \n",
        "Найдем среднее отклонение по модулю для всей выборки:"
      ]
    },
    {
      "cell_type": "code",
      "metadata": {
        "colab": {
          "base_uri": "https://localhost:8080/"
        },
        "id": "75oYZx0wJk0L",
        "outputId": "c6f5553d-16c2-43a9-f411-8bf33621e836"
      },
      "source": [
        "pred_df['abs'].mean()"
      ],
      "execution_count": null,
      "outputs": [
        {
          "output_type": "execute_result",
          "data": {
            "text/plain": [
              "3.2708628109003195"
            ]
          },
          "metadata": {
            "tags": []
          },
          "execution_count": 14
        }
      ]
    },
    {
      "cell_type": "markdown",
      "metadata": {
        "id": "EXCrEPFfJ-l_"
      },
      "source": [
        "Получается мы в среднем ошибаемся на 3.27 единиц по всей выборке. Это мы подсчитали метрику под названием MAE (mean absolute error, средне-абсолютная ошибка).\n",
        "\n",
        "$$MAE = \\frac{1}{n}\\sum_i^n{|y - y_{pred}|}$$"
      ]
    },
    {
      "cell_type": "markdown",
      "metadata": {
        "id": "Et3JbFT3KeXj"
      },
      "source": [
        "Она реализована в библиотеки `sklearn` в модуле `metrics`:\n"
      ]
    },
    {
      "cell_type": "code",
      "metadata": {
        "id": "4cI3icmFJ9jh"
      },
      "source": [
        "from sklearn.metrics import mean_absolute_error"
      ],
      "execution_count": null,
      "outputs": []
    },
    {
      "cell_type": "markdown",
      "metadata": {
        "id": "3VZHiQG8KvQd"
      },
      "source": [
        "Можем не вручную считать MAE, а с помощью функции `mean_absolute_error`:"
      ]
    },
    {
      "cell_type": "code",
      "metadata": {
        "colab": {
          "base_uri": "https://localhost:8080/"
        },
        "id": "h6367P7QKpuh",
        "outputId": "ada12687-7881-41c3-9035-988b3defccb5"
      },
      "source": [
        "mean_absolute_error(pred_df['ground truth'], pred_df['prediction'])"
      ],
      "execution_count": null,
      "outputs": [
        {
          "output_type": "execute_result",
          "data": {
            "text/plain": [
              "3.270862810900316"
            ]
          },
          "metadata": {
            "tags": []
          },
          "execution_count": 16
        }
      ]
    },
    {
      "cell_type": "markdown",
      "metadata": {
        "id": "9ehzgk_LK3Th"
      },
      "source": [
        "Получается такое же значения метрики, как мы получали при ручном подсчете.   \n",
        "Чем метрика MAE ближе к нулю, тем лучше, в этом случае мы попадаем во все истинные значения."
      ]
    },
    {
      "cell_type": "markdown",
      "metadata": {
        "id": "3i4-zKblOBCo"
      },
      "source": [
        "### MSE"
      ]
    },
    {
      "cell_type": "markdown",
      "metadata": {
        "id": "HHSQNdyHLBEv"
      },
      "source": [
        "Как ещё мы могли бы избавиться от знака минуса в отклонениях?  \n",
        "Мы могли бы возводить отклонения в квадрат, а затем так же искать среднее по выборке:"
      ]
    },
    {
      "cell_type": "code",
      "metadata": {
        "colab": {
          "base_uri": "https://localhost:8080/",
          "height": 419
        },
        "id": "55zHB7InKuUL",
        "outputId": "ca8fc9ba-c496-4196-e5ea-aa2e6976309b"
      },
      "source": [
        "pred_df['squared'] = (pred_df['prediction'] - pred_df['ground truth']) ** 2\n",
        "pred_df"
      ],
      "execution_count": null,
      "outputs": [
        {
          "output_type": "execute_result",
          "data": {
            "text/html": [
              "<div>\n",
              "<style scoped>\n",
              "    .dataframe tbody tr th:only-of-type {\n",
              "        vertical-align: middle;\n",
              "    }\n",
              "\n",
              "    .dataframe tbody tr th {\n",
              "        vertical-align: top;\n",
              "    }\n",
              "\n",
              "    .dataframe thead th {\n",
              "        text-align: right;\n",
              "    }\n",
              "</style>\n",
              "<table border=\"1\" class=\"dataframe\">\n",
              "  <thead>\n",
              "    <tr style=\"text-align: right;\">\n",
              "      <th></th>\n",
              "      <th>ground truth</th>\n",
              "      <th>prediction</th>\n",
              "      <th>difference</th>\n",
              "      <th>abs</th>\n",
              "      <th>squared</th>\n",
              "    </tr>\n",
              "  </thead>\n",
              "  <tbody>\n",
              "    <tr>\n",
              "      <th>0</th>\n",
              "      <td>24.0</td>\n",
              "      <td>30.003843</td>\n",
              "      <td>6.003843</td>\n",
              "      <td>6.003843</td>\n",
              "      <td>36.046135</td>\n",
              "    </tr>\n",
              "    <tr>\n",
              "      <th>1</th>\n",
              "      <td>21.6</td>\n",
              "      <td>25.025562</td>\n",
              "      <td>3.425562</td>\n",
              "      <td>3.425562</td>\n",
              "      <td>11.734478</td>\n",
              "    </tr>\n",
              "    <tr>\n",
              "      <th>2</th>\n",
              "      <td>34.7</td>\n",
              "      <td>30.567597</td>\n",
              "      <td>-4.132403</td>\n",
              "      <td>4.132403</td>\n",
              "      <td>17.076757</td>\n",
              "    </tr>\n",
              "    <tr>\n",
              "      <th>3</th>\n",
              "      <td>33.4</td>\n",
              "      <td>28.607036</td>\n",
              "      <td>-4.792964</td>\n",
              "      <td>4.792964</td>\n",
              "      <td>22.972499</td>\n",
              "    </tr>\n",
              "    <tr>\n",
              "      <th>4</th>\n",
              "      <td>36.2</td>\n",
              "      <td>27.943524</td>\n",
              "      <td>-8.256476</td>\n",
              "      <td>8.256476</td>\n",
              "      <td>68.169392</td>\n",
              "    </tr>\n",
              "    <tr>\n",
              "      <th>...</th>\n",
              "      <td>...</td>\n",
              "      <td>...</td>\n",
              "      <td>...</td>\n",
              "      <td>...</td>\n",
              "      <td>...</td>\n",
              "    </tr>\n",
              "    <tr>\n",
              "      <th>501</th>\n",
              "      <td>22.4</td>\n",
              "      <td>23.533341</td>\n",
              "      <td>1.133341</td>\n",
              "      <td>1.133341</td>\n",
              "      <td>1.284461</td>\n",
              "    </tr>\n",
              "    <tr>\n",
              "      <th>502</th>\n",
              "      <td>20.6</td>\n",
              "      <td>22.375719</td>\n",
              "      <td>1.775719</td>\n",
              "      <td>1.775719</td>\n",
              "      <td>3.153178</td>\n",
              "    </tr>\n",
              "    <tr>\n",
              "      <th>503</th>\n",
              "      <td>23.9</td>\n",
              "      <td>27.627426</td>\n",
              "      <td>3.727426</td>\n",
              "      <td>3.727426</td>\n",
              "      <td>13.893705</td>\n",
              "    </tr>\n",
              "    <tr>\n",
              "      <th>504</th>\n",
              "      <td>22.0</td>\n",
              "      <td>26.127967</td>\n",
              "      <td>4.127967</td>\n",
              "      <td>4.127967</td>\n",
              "      <td>17.040110</td>\n",
              "    </tr>\n",
              "    <tr>\n",
              "      <th>505</th>\n",
              "      <td>11.9</td>\n",
              "      <td>22.344212</td>\n",
              "      <td>10.444212</td>\n",
              "      <td>10.444212</td>\n",
              "      <td>109.081570</td>\n",
              "    </tr>\n",
              "  </tbody>\n",
              "</table>\n",
              "<p>506 rows × 5 columns</p>\n",
              "</div>"
            ],
            "text/plain": [
              "     ground truth  prediction  difference        abs     squared\n",
              "0            24.0   30.003843    6.003843   6.003843   36.046135\n",
              "1            21.6   25.025562    3.425562   3.425562   11.734478\n",
              "2            34.7   30.567597   -4.132403   4.132403   17.076757\n",
              "3            33.4   28.607036   -4.792964   4.792964   22.972499\n",
              "4            36.2   27.943524   -8.256476   8.256476   68.169392\n",
              "..            ...         ...         ...        ...         ...\n",
              "501          22.4   23.533341    1.133341   1.133341    1.284461\n",
              "502          20.6   22.375719    1.775719   1.775719    3.153178\n",
              "503          23.9   27.627426    3.727426   3.727426   13.893705\n",
              "504          22.0   26.127967    4.127967   4.127967   17.040110\n",
              "505          11.9   22.344212   10.444212  10.444212  109.081570\n",
              "\n",
              "[506 rows x 5 columns]"
            ]
          },
          "metadata": {
            "tags": []
          },
          "execution_count": 17
        }
      ]
    },
    {
      "cell_type": "markdown",
      "metadata": {
        "id": "t1kzJ82ZLclD"
      },
      "source": [
        "Снова не будет отрицательных отклонений, которые ведут к очень маленькому усреднению.   \n",
        "Найдем среднее отклонение в квадрате для всей выборки:"
      ]
    },
    {
      "cell_type": "code",
      "metadata": {
        "colab": {
          "base_uri": "https://localhost:8080/"
        },
        "id": "sokNJEzgLclJ",
        "outputId": "f4051fc4-22b9-47d3-a3c6-afa641110507"
      },
      "source": [
        "pred_df['squared'].mean()"
      ],
      "execution_count": null,
      "outputs": [
        {
          "output_type": "execute_result",
          "data": {
            "text/plain": [
              "21.894831181729213"
            ]
          },
          "metadata": {
            "tags": []
          },
          "execution_count": 18
        }
      ]
    },
    {
      "cell_type": "markdown",
      "metadata": {
        "id": "CeuB_B1DLclO"
      },
      "source": [
        "Получается мы в среднем ошибаемся на 21.89 квадратичных единиц по всей выборке. Эта метрика называется MSE (mean squared error, средне-квадратичная ошибка).\n",
        "\n",
        "$$MSE = \\frac{1}{n}\\sum_i^n{(y - y_{pred})^2}$$"
      ]
    },
    {
      "cell_type": "markdown",
      "metadata": {
        "id": "IwY5YGjVLclR"
      },
      "source": [
        "Она тоже реализована в библиотеки `sklearn` в модуле `metrics`:\n"
      ]
    },
    {
      "cell_type": "code",
      "metadata": {
        "id": "PKTRqS22LclT"
      },
      "source": [
        "from sklearn.metrics import mean_squared_error"
      ],
      "execution_count": null,
      "outputs": []
    },
    {
      "cell_type": "markdown",
      "metadata": {
        "id": "zmXzUjuZLclU"
      },
      "source": [
        "Посчитаем MSE с помощью функции `mean_squared_error`:"
      ]
    },
    {
      "cell_type": "code",
      "metadata": {
        "colab": {
          "base_uri": "https://localhost:8080/"
        },
        "id": "Dm8WIScRLclW",
        "outputId": "1f5c1067-dbc4-4381-a8b0-c60df7b116fd"
      },
      "source": [
        "mean_squared_error(pred_df['ground truth'], pred_df['prediction'])"
      ],
      "execution_count": null,
      "outputs": [
        {
          "output_type": "execute_result",
          "data": {
            "text/plain": [
              "21.894831181729202"
            ]
          },
          "metadata": {
            "tags": []
          },
          "execution_count": 20
        }
      ]
    },
    {
      "cell_type": "markdown",
      "metadata": {
        "id": "fikVaZErLclY"
      },
      "source": [
        "И снова наши значения совпали.   \n",
        "Чем метрика MSE ближе к нулю, тем лучше."
      ]
    },
    {
      "cell_type": "markdown",
      "metadata": {
        "id": "9ihraBfsMKCT"
      },
      "source": [
        "Метрика очень классная, она используется под капотом моделей машиного обучения, как функция потерь, но когда хотим понять, насколько модель ошибается, метрика MSE может вносить неясность."
      ]
    },
    {
      "cell_type": "markdown",
      "metadata": {
        "id": "0zpPRGaxOFJA"
      },
      "source": [
        "### RMSE"
      ]
    },
    {
      "cell_type": "markdown",
      "metadata": {
        "id": "WkbR6973Lcla"
      },
      "source": [
        "Отклонения считали в квадрате, поэтому если наша стоимость изменяется в рублях, то mse дает цифру рубли в квадрате, что усложняет интерпретацию результата, это легко исправить взятием корня квадратного из значения MSE - а это и есть новая метрика RMSE."
      ]
    },
    {
      "cell_type": "markdown",
      "metadata": {
        "id": "f3w3iZWgM4O3"
      },
      "source": [
        "Для подсчета этой метрики можно усреднить квадратичные отклонения (то есть получить MSE), а затем взять корень квадратный:"
      ]
    },
    {
      "cell_type": "code",
      "metadata": {
        "colab": {
          "base_uri": "https://localhost:8080/"
        },
        "id": "HxnZ6x_GLUyD",
        "outputId": "bf6f3e9a-cae9-4681-eea4-74c38f239584"
      },
      "source": [
        "np.sqrt(pred_df['squared'].mean())"
      ],
      "execution_count": null,
      "outputs": [
        {
          "output_type": "execute_result",
          "data": {
            "text/plain": [
              "4.679191295697282"
            ]
          },
          "metadata": {
            "tags": []
          },
          "execution_count": 21
        }
      ]
    },
    {
      "cell_type": "markdown",
      "metadata": {
        "id": "8C4xvQ0FNHG5"
      },
      "source": [
        "Теперь очевидно, что в среднем ошибаемся на 4.67 единиц по всей выборке, либо в большую, либо в меньшую сторону. Эта метрика RMSE (root mean squared error).\n",
        "\n",
        "$$RMSE = \\sqrt{\\frac{1}{n}\\sum_i^n{(y - y_{pred})^2}}$$"
      ]
    },
    {
      "cell_type": "markdown",
      "metadata": {
        "id": "50aEon6KNHG6"
      },
      "source": [
        "Она не реализована в библиотеки `sklearn`, но как мы поняли, метрика - это MSE  с корнем:\n"
      ]
    },
    {
      "cell_type": "code",
      "metadata": {
        "colab": {
          "base_uri": "https://localhost:8080/"
        },
        "id": "Hk_zq4PJNHG8",
        "outputId": "17afd7bd-e3c1-4a36-e1c4-4942c635a1b0"
      },
      "source": [
        "np.sqrt(mean_squared_error(pred_df['ground truth'], pred_df['prediction']))"
      ],
      "execution_count": null,
      "outputs": [
        {
          "output_type": "execute_result",
          "data": {
            "text/plain": [
              "4.679191295697281"
            ]
          },
          "metadata": {
            "tags": []
          },
          "execution_count": 22
        }
      ]
    },
    {
      "cell_type": "markdown",
      "metadata": {
        "id": "Kr4PtuUeNHG-"
      },
      "source": [
        "Значения идентичны.\n",
        "И так же, как предыдущие метрики, чем метрика RMSE ближе к нулю, тем лучше."
      ]
    },
    {
      "cell_type": "markdown",
      "metadata": {
        "id": "11_hHrGGOIte"
      },
      "source": [
        "### $R^2$"
      ]
    },
    {
      "cell_type": "markdown",
      "metadata": {
        "id": "-ew4_ERzOItg"
      },
      "source": [
        "Первые три метрики, которые рассмотрели, имеют идеальное значение 0, к которому нужно стремиться, но эти метрики не имеют пороговых значений, выше которых мы считаем, что модель ужасная, т.к. что они в зависимости от задач могут очень сильно варьироваться."
      ]
    },
    {
      "cell_type": "markdown",
      "metadata": {
        "id": "gd1jIS4WPHyW"
      },
      "source": [
        "К примеру, если наша целевая переменная изменяется от 0 до 10:"
      ]
    },
    {
      "cell_type": "code",
      "metadata": {
        "id": "QAdeDXixNCNY"
      },
      "source": [
        "y_true = [0, 3, 6, 2, 9]"
      ],
      "execution_count": null,
      "outputs": []
    },
    {
      "cell_type": "markdown",
      "metadata": {
        "id": "v93HDeAkPPD2"
      },
      "source": [
        "Наша модель может предсказать:"
      ]
    },
    {
      "cell_type": "code",
      "metadata": {
        "id": "9T7Vn24iPNev"
      },
      "source": [
        "y_pred = [1, 5, 9, 6, 14]"
      ],
      "execution_count": null,
      "outputs": []
    },
    {
      "cell_type": "markdown",
      "metadata": {
        "id": "U_PFULKXTkH2"
      },
      "source": [
        "Соединим предсказания и истину вместе и найдем разницу между ними:"
      ]
    },
    {
      "cell_type": "code",
      "metadata": {
        "colab": {
          "base_uri": "https://localhost:8080/",
          "height": 198
        },
        "id": "uQLf1KgBTkpg",
        "outputId": "5140291a-914a-4099-d756-a4f9adaa10e8"
      },
      "source": [
        "df = pd.DataFrame({\n",
        "    'y_true': y_true,\n",
        "    'y_pred': y_pred\n",
        "})\n",
        "\n",
        "df['difference'] = df['y_pred'] - df['y_true']\n",
        "df"
      ],
      "execution_count": null,
      "outputs": [
        {
          "output_type": "execute_result",
          "data": {
            "text/html": [
              "<div>\n",
              "<style scoped>\n",
              "    .dataframe tbody tr th:only-of-type {\n",
              "        vertical-align: middle;\n",
              "    }\n",
              "\n",
              "    .dataframe tbody tr th {\n",
              "        vertical-align: top;\n",
              "    }\n",
              "\n",
              "    .dataframe thead th {\n",
              "        text-align: right;\n",
              "    }\n",
              "</style>\n",
              "<table border=\"1\" class=\"dataframe\">\n",
              "  <thead>\n",
              "    <tr style=\"text-align: right;\">\n",
              "      <th></th>\n",
              "      <th>y_true</th>\n",
              "      <th>y_pred</th>\n",
              "      <th>difference</th>\n",
              "    </tr>\n",
              "  </thead>\n",
              "  <tbody>\n",
              "    <tr>\n",
              "      <th>0</th>\n",
              "      <td>0</td>\n",
              "      <td>1</td>\n",
              "      <td>1</td>\n",
              "    </tr>\n",
              "    <tr>\n",
              "      <th>1</th>\n",
              "      <td>3</td>\n",
              "      <td>5</td>\n",
              "      <td>2</td>\n",
              "    </tr>\n",
              "    <tr>\n",
              "      <th>2</th>\n",
              "      <td>6</td>\n",
              "      <td>9</td>\n",
              "      <td>3</td>\n",
              "    </tr>\n",
              "    <tr>\n",
              "      <th>3</th>\n",
              "      <td>2</td>\n",
              "      <td>6</td>\n",
              "      <td>4</td>\n",
              "    </tr>\n",
              "    <tr>\n",
              "      <th>4</th>\n",
              "      <td>9</td>\n",
              "      <td>14</td>\n",
              "      <td>5</td>\n",
              "    </tr>\n",
              "  </tbody>\n",
              "</table>\n",
              "</div>"
            ],
            "text/plain": [
              "   y_true  y_pred  difference\n",
              "0       0       1           1\n",
              "1       3       5           2\n",
              "2       6       9           3\n",
              "3       2       6           4\n",
              "4       9      14           5"
            ]
          },
          "metadata": {
            "tags": []
          },
          "execution_count": 25
        }
      ]
    },
    {
      "cell_type": "markdown",
      "metadata": {
        "id": "hS3ZjW20SIYM"
      },
      "source": [
        "И мы получим следующее значение средне-квадратичной ошибки:"
      ]
    },
    {
      "cell_type": "code",
      "metadata": {
        "colab": {
          "base_uri": "https://localhost:8080/"
        },
        "id": "vEX-Y_7-SCBs",
        "outputId": "589d07aa-a2bd-4dd2-9b9b-b3beb858954d"
      },
      "source": [
        "mean_squared_error(y_true, y_pred)"
      ],
      "execution_count": null,
      "outputs": [
        {
          "output_type": "execute_result",
          "data": {
            "text/plain": [
              "11.0"
            ]
          },
          "metadata": {
            "tags": []
          },
          "execution_count": 26
        }
      ]
    },
    {
      "cell_type": "markdown",
      "metadata": {
        "id": "ftGiuPi8SPPF"
      },
      "source": [
        "А если наша целевая переменная изменяется от 0 до 10000:"
      ]
    },
    {
      "cell_type": "code",
      "metadata": {
        "id": "AyfxnGQTSPPH"
      },
      "source": [
        "y_true = [0, 300, 6000, 2000, 9900]"
      ],
      "execution_count": null,
      "outputs": []
    },
    {
      "cell_type": "markdown",
      "metadata": {
        "id": "BavpisDFSPPL"
      },
      "source": [
        "Наша модель может предсказать:"
      ]
    },
    {
      "cell_type": "code",
      "metadata": {
        "id": "S7vDS8NLSPPN"
      },
      "source": [
        "y_pred = [1, 302, 6003, 2004, 9905]"
      ],
      "execution_count": null,
      "outputs": []
    },
    {
      "cell_type": "markdown",
      "metadata": {
        "id": "23adnk2KTzCu"
      },
      "source": [
        "Соединим предсказания и истину вместе и найдем разницу между ними:"
      ]
    },
    {
      "cell_type": "code",
      "metadata": {
        "colab": {
          "base_uri": "https://localhost:8080/",
          "height": 198
        },
        "id": "_a6CnuhpTzCw",
        "outputId": "65fd92d7-0c29-4ace-e20f-e18135d4467a"
      },
      "source": [
        "df = pd.DataFrame({\n",
        "    'y_true': y_true,\n",
        "    'y_pred': y_pred\n",
        "})\n",
        "\n",
        "df['difference'] = df['y_pred'] - df['y_true']\n",
        "df"
      ],
      "execution_count": null,
      "outputs": [
        {
          "output_type": "execute_result",
          "data": {
            "text/html": [
              "<div>\n",
              "<style scoped>\n",
              "    .dataframe tbody tr th:only-of-type {\n",
              "        vertical-align: middle;\n",
              "    }\n",
              "\n",
              "    .dataframe tbody tr th {\n",
              "        vertical-align: top;\n",
              "    }\n",
              "\n",
              "    .dataframe thead th {\n",
              "        text-align: right;\n",
              "    }\n",
              "</style>\n",
              "<table border=\"1\" class=\"dataframe\">\n",
              "  <thead>\n",
              "    <tr style=\"text-align: right;\">\n",
              "      <th></th>\n",
              "      <th>y_true</th>\n",
              "      <th>y_pred</th>\n",
              "      <th>difference</th>\n",
              "    </tr>\n",
              "  </thead>\n",
              "  <tbody>\n",
              "    <tr>\n",
              "      <th>0</th>\n",
              "      <td>0</td>\n",
              "      <td>1</td>\n",
              "      <td>1</td>\n",
              "    </tr>\n",
              "    <tr>\n",
              "      <th>1</th>\n",
              "      <td>300</td>\n",
              "      <td>302</td>\n",
              "      <td>2</td>\n",
              "    </tr>\n",
              "    <tr>\n",
              "      <th>2</th>\n",
              "      <td>6000</td>\n",
              "      <td>6003</td>\n",
              "      <td>3</td>\n",
              "    </tr>\n",
              "    <tr>\n",
              "      <th>3</th>\n",
              "      <td>2000</td>\n",
              "      <td>2004</td>\n",
              "      <td>4</td>\n",
              "    </tr>\n",
              "    <tr>\n",
              "      <th>4</th>\n",
              "      <td>9900</td>\n",
              "      <td>9905</td>\n",
              "      <td>5</td>\n",
              "    </tr>\n",
              "  </tbody>\n",
              "</table>\n",
              "</div>"
            ],
            "text/plain": [
              "   y_true  y_pred  difference\n",
              "0       0       1           1\n",
              "1     300     302           2\n",
              "2    6000    6003           3\n",
              "3    2000    2004           4\n",
              "4    9900    9905           5"
            ]
          },
          "metadata": {
            "tags": []
          },
          "execution_count": 29
        }
      ]
    },
    {
      "cell_type": "markdown",
      "metadata": {
        "id": "7Ru7O3T5SPPP"
      },
      "source": [
        "И мы получим следующее значение средне-квадратичной ошибки:"
      ]
    },
    {
      "cell_type": "code",
      "metadata": {
        "colab": {
          "base_uri": "https://localhost:8080/"
        },
        "id": "5GWSxWy4SPPR",
        "outputId": "64e0b670-3747-4e5e-b3e3-25ae818d9e34"
      },
      "source": [
        "mean_squared_error(y_true, y_pred)"
      ],
      "execution_count": null,
      "outputs": [
        {
          "output_type": "execute_result",
          "data": {
            "text/plain": [
              "11.0"
            ]
          },
          "metadata": {
            "tags": []
          },
          "execution_count": 30
        }
      ]
    },
    {
      "cell_type": "markdown",
      "metadata": {
        "id": "n83b5dS7TB5s"
      },
      "source": [
        "MSE получились одинаковыми, потому что одинаковые разницы в предсказаниях, но вторая модель очевидно делает меньше ошибок, чем первая, значит она более качественная, хотя значения метрики MSE абсолютно одинаковые."
      ]
    },
    {
      "cell_type": "markdown",
      "metadata": {
        "id": "AsZrOrodRvOo"
      },
      "source": [
        "MSE не позволяет сама по себе сделать вывод о том, как хорошо модель решает задачу. Вот как в нашем примере, если целевая переменная принимает значения от 0 до 10, а MSE равняется 11, это плохой показатель, а когда целевая переменная варьируется от 0 до 10000, такое же значение уже является очень хорошим.  \n",
        "Для избавления от такой неясности и был введен коэффициент детерминации, который по сути является нормированной среднеквадратичной ошибкой и принимает значения от 0 до 1."
      ]
    },
    {
      "cell_type": "markdown",
      "metadata": {
        "id": "9cjy7V_wUees"
      },
      "source": [
        "\n",
        "$$R^2 = 1 - \\frac{\\frac{1}{n}\\sum^{n}_{i}{(y - y_{pred})^2}}{\\frac{1}{n}\\sum^{n}_{i}{(y - \\bar{y})^2}}$$\n",
        "\n",
        "где $\\bar{y}=\\frac{1}{l}\\sum^{n}_{i}y_{i}$ - среднее значение целевой переменной.\n",
        "\n",
        "Коэффициент детерминации характеризует, какую долю дисперсии ответов объясняет модель. Если $R^{2}=1$, то модель идеально описывает данные, если же $R^{2}$ близко к нулю, то предсказания сопоставимы по качеству с константной моделью.  \n",
        "То есть, можем относиться к метрике $R^{2}$ как к точности работы модели для задачи регрессии."
      ]
    },
    {
      "cell_type": "markdown",
      "metadata": {
        "id": "UN43KmKEUt5_"
      },
      "source": [
        "Для подсчета этой метрики в числителе используется MSE нашей модели, а в знаменателе дисперсия целевой переменной (хотя к этому значению можно относиться, как к MSE не самой умной константной модели, которая везде отвечает среднее по выборке):"
      ]
    },
    {
      "cell_type": "code",
      "metadata": {
        "colab": {
          "base_uri": "https://localhost:8080/",
          "height": 407
        },
        "id": "3k0uI4UTVLoc",
        "outputId": "6f3d4745-9a95-4eca-f513-ec0f69fa514e"
      },
      "source": [
        "pred_df['constant'] = pred_df['ground truth'].mean()\n",
        "pred_df"
      ],
      "execution_count": null,
      "outputs": [
        {
          "output_type": "execute_result",
          "data": {
            "text/html": [
              "<div>\n",
              "<style scoped>\n",
              "    .dataframe tbody tr th:only-of-type {\n",
              "        vertical-align: middle;\n",
              "    }\n",
              "\n",
              "    .dataframe tbody tr th {\n",
              "        vertical-align: top;\n",
              "    }\n",
              "\n",
              "    .dataframe thead th {\n",
              "        text-align: right;\n",
              "    }\n",
              "</style>\n",
              "<table border=\"1\" class=\"dataframe\">\n",
              "  <thead>\n",
              "    <tr style=\"text-align: right;\">\n",
              "      <th></th>\n",
              "      <th>ground truth</th>\n",
              "      <th>prediction</th>\n",
              "      <th>difference</th>\n",
              "      <th>abs</th>\n",
              "      <th>squared</th>\n",
              "      <th>constant</th>\n",
              "    </tr>\n",
              "  </thead>\n",
              "  <tbody>\n",
              "    <tr>\n",
              "      <th>0</th>\n",
              "      <td>24.0</td>\n",
              "      <td>30.003843</td>\n",
              "      <td>6.003843</td>\n",
              "      <td>6.003843</td>\n",
              "      <td>36.046135</td>\n",
              "      <td>22.532806</td>\n",
              "    </tr>\n",
              "    <tr>\n",
              "      <th>1</th>\n",
              "      <td>21.6</td>\n",
              "      <td>25.025562</td>\n",
              "      <td>3.425562</td>\n",
              "      <td>3.425562</td>\n",
              "      <td>11.734478</td>\n",
              "      <td>22.532806</td>\n",
              "    </tr>\n",
              "    <tr>\n",
              "      <th>2</th>\n",
              "      <td>34.7</td>\n",
              "      <td>30.567597</td>\n",
              "      <td>-4.132403</td>\n",
              "      <td>4.132403</td>\n",
              "      <td>17.076757</td>\n",
              "      <td>22.532806</td>\n",
              "    </tr>\n",
              "    <tr>\n",
              "      <th>3</th>\n",
              "      <td>33.4</td>\n",
              "      <td>28.607036</td>\n",
              "      <td>-4.792964</td>\n",
              "      <td>4.792964</td>\n",
              "      <td>22.972499</td>\n",
              "      <td>22.532806</td>\n",
              "    </tr>\n",
              "    <tr>\n",
              "      <th>4</th>\n",
              "      <td>36.2</td>\n",
              "      <td>27.943524</td>\n",
              "      <td>-8.256476</td>\n",
              "      <td>8.256476</td>\n",
              "      <td>68.169392</td>\n",
              "      <td>22.532806</td>\n",
              "    </tr>\n",
              "    <tr>\n",
              "      <th>...</th>\n",
              "      <td>...</td>\n",
              "      <td>...</td>\n",
              "      <td>...</td>\n",
              "      <td>...</td>\n",
              "      <td>...</td>\n",
              "      <td>...</td>\n",
              "    </tr>\n",
              "    <tr>\n",
              "      <th>501</th>\n",
              "      <td>22.4</td>\n",
              "      <td>23.533341</td>\n",
              "      <td>1.133341</td>\n",
              "      <td>1.133341</td>\n",
              "      <td>1.284461</td>\n",
              "      <td>22.532806</td>\n",
              "    </tr>\n",
              "    <tr>\n",
              "      <th>502</th>\n",
              "      <td>20.6</td>\n",
              "      <td>22.375719</td>\n",
              "      <td>1.775719</td>\n",
              "      <td>1.775719</td>\n",
              "      <td>3.153178</td>\n",
              "      <td>22.532806</td>\n",
              "    </tr>\n",
              "    <tr>\n",
              "      <th>503</th>\n",
              "      <td>23.9</td>\n",
              "      <td>27.627426</td>\n",
              "      <td>3.727426</td>\n",
              "      <td>3.727426</td>\n",
              "      <td>13.893705</td>\n",
              "      <td>22.532806</td>\n",
              "    </tr>\n",
              "    <tr>\n",
              "      <th>504</th>\n",
              "      <td>22.0</td>\n",
              "      <td>26.127967</td>\n",
              "      <td>4.127967</td>\n",
              "      <td>4.127967</td>\n",
              "      <td>17.040110</td>\n",
              "      <td>22.532806</td>\n",
              "    </tr>\n",
              "    <tr>\n",
              "      <th>505</th>\n",
              "      <td>11.9</td>\n",
              "      <td>22.344212</td>\n",
              "      <td>10.444212</td>\n",
              "      <td>10.444212</td>\n",
              "      <td>109.081570</td>\n",
              "      <td>22.532806</td>\n",
              "    </tr>\n",
              "  </tbody>\n",
              "</table>\n",
              "<p>506 rows × 6 columns</p>\n",
              "</div>"
            ],
            "text/plain": [
              "     ground truth  prediction  difference        abs     squared   constant\n",
              "0            24.0   30.003843    6.003843   6.003843   36.046135  22.532806\n",
              "1            21.6   25.025562    3.425562   3.425562   11.734478  22.532806\n",
              "2            34.7   30.567597   -4.132403   4.132403   17.076757  22.532806\n",
              "3            33.4   28.607036   -4.792964   4.792964   22.972499  22.532806\n",
              "4            36.2   27.943524   -8.256476   8.256476   68.169392  22.532806\n",
              "..            ...         ...         ...        ...         ...        ...\n",
              "501          22.4   23.533341    1.133341   1.133341    1.284461  22.532806\n",
              "502          20.6   22.375719    1.775719   1.775719    3.153178  22.532806\n",
              "503          23.9   27.627426    3.727426   3.727426   13.893705  22.532806\n",
              "504          22.0   26.127967    4.127967   4.127967   17.040110  22.532806\n",
              "505          11.9   22.344212   10.444212  10.444212  109.081570  22.532806\n",
              "\n",
              "[506 rows x 6 columns]"
            ]
          },
          "metadata": {
            "tags": []
          },
          "execution_count": 31
        }
      ]
    },
    {
      "cell_type": "markdown",
      "metadata": {
        "id": "6OwjkSZKVs2z"
      },
      "source": [
        "Получаем, что MSE константной модели, которая везде отвечает среднее по выборке равно"
      ]
    },
    {
      "cell_type": "code",
      "metadata": {
        "colab": {
          "base_uri": "https://localhost:8080/"
        },
        "id": "JQBgXLEdV8qH",
        "outputId": "58cb0665-5824-467d-8793-16f52b1f89d0"
      },
      "source": [
        "mse_const = mean_squared_error(pred_df['ground truth'], pred_df['constant'])\n",
        "mse_const"
      ],
      "execution_count": null,
      "outputs": [
        {
          "output_type": "execute_result",
          "data": {
            "text/plain": [
              "84.41955615616554"
            ]
          },
          "metadata": {
            "tags": []
          },
          "execution_count": 33
        }
      ]
    },
    {
      "cell_type": "markdown",
      "metadata": {
        "id": "ubdNZbPLWDBZ"
      },
      "source": [
        "А MSE нашей модели получается следующим"
      ]
    },
    {
      "cell_type": "code",
      "metadata": {
        "colab": {
          "base_uri": "https://localhost:8080/"
        },
        "id": "jVct8SizWGTW",
        "outputId": "22d821cf-9383-4854-8374-5f374fdc3778"
      },
      "source": [
        "mse_model = mean_squared_error(pred_df['ground truth'], pred_df['prediction'])\n",
        "mse_model"
      ],
      "execution_count": null,
      "outputs": [
        {
          "output_type": "execute_result",
          "data": {
            "text/plain": [
              "21.894831181729202"
            ]
          },
          "metadata": {
            "tags": []
          },
          "execution_count": 34
        }
      ]
    },
    {
      "cell_type": "markdown",
      "metadata": {
        "id": "nCy7EvOHWKG2"
      },
      "source": [
        "Что лучше, чем у константных ответов, значит, наша модели описывает дисперсию целевой переменной, значит, что она уловила больше вариативности в данных, нежели простое среднее по выборке.   \n",
        "Теперь можем посчитать коэффициент детерминации: поделим MSE нашей модели на дисперсию целевой переменной, а затем это значение вычтем из 1:"
      ]
    },
    {
      "cell_type": "code",
      "metadata": {
        "colab": {
          "base_uri": "https://localhost:8080/"
        },
        "id": "n1kKZnsfUt6D",
        "outputId": "22cdcdb3-7c60-4971-ffa7-ddacd6526acf"
      },
      "source": [
        "1 - mse_model / mse_const"
      ],
      "execution_count": null,
      "outputs": [
        {
          "output_type": "execute_result",
          "data": {
            "text/plain": [
              "0.7406426641094094"
            ]
          },
          "metadata": {
            "tags": []
          },
          "execution_count": 35
        }
      ]
    },
    {
      "cell_type": "markdown",
      "metadata": {
        "id": "pXtkDAqkUt6Q"
      },
      "source": [
        "$R^2$ реализована в библиотеке `sklearn`:"
      ]
    },
    {
      "cell_type": "code",
      "metadata": {
        "colab": {
          "base_uri": "https://localhost:8080/"
        },
        "id": "yUleTi4xXHK0",
        "outputId": "e2f2927f-d6c1-4809-de8f-82cc8ab957a8"
      },
      "source": [
        "from sklearn.metrics import r2_score\n",
        "\n",
        "r2_score(pred_df['ground truth'], pred_df['prediction'])"
      ],
      "execution_count": null,
      "outputs": [
        {
          "output_type": "execute_result",
          "data": {
            "text/plain": [
              "0.7406426641094095"
            ]
          },
          "metadata": {
            "tags": []
          },
          "execution_count": 36
        }
      ]
    },
    {
      "cell_type": "markdown",
      "metadata": {
        "id": "l9W8kdG6Ut6O"
      },
      "source": [
        "Получается $R^2$ нашей модели стремится к 1, что говорит о довольно неплохом качестве работы модели."
      ]
    },
    {
      "cell_type": "markdown",
      "metadata": {
        "id": "3ZusYD4P4Iue"
      },
      "source": [
        "#### Отрицательный $R^2$"
      ]
    },
    {
      "cell_type": "markdown",
      "metadata": {
        "id": "7NgLQband4D3"
      },
      "source": [
        "Иногда случается так, что модель получается очень плохой, что её ответы никак не соотносятся с истинными, в этом случае коэффициент детерминации может быть отрицательным.\n"
      ]
    },
    {
      "cell_type": "code",
      "metadata": {
        "id": "7UG87mokePIV",
        "colab": {
          "base_uri": "https://localhost:8080/",
          "height": 198
        },
        "outputId": "b2501192-d32f-42d2-85d2-d06dfbe0c7c7"
      },
      "source": [
        "y_true = [0, 1, 2, 3, 4]\n",
        "y_pred = [10, -20, -30, 40, -50]\n",
        "\n",
        "\n",
        "df = pd.DataFrame({\n",
        "    'y_true': y_true,\n",
        "    'y_pred': y_pred\n",
        "})\n",
        "\n",
        "\n",
        "df['difference'] = df['y_pred'] - df['y_true']\n",
        "df"
      ],
      "execution_count": null,
      "outputs": [
        {
          "output_type": "execute_result",
          "data": {
            "text/html": [
              "<div>\n",
              "<style scoped>\n",
              "    .dataframe tbody tr th:only-of-type {\n",
              "        vertical-align: middle;\n",
              "    }\n",
              "\n",
              "    .dataframe tbody tr th {\n",
              "        vertical-align: top;\n",
              "    }\n",
              "\n",
              "    .dataframe thead th {\n",
              "        text-align: right;\n",
              "    }\n",
              "</style>\n",
              "<table border=\"1\" class=\"dataframe\">\n",
              "  <thead>\n",
              "    <tr style=\"text-align: right;\">\n",
              "      <th></th>\n",
              "      <th>y_true</th>\n",
              "      <th>y_pred</th>\n",
              "      <th>difference</th>\n",
              "    </tr>\n",
              "  </thead>\n",
              "  <tbody>\n",
              "    <tr>\n",
              "      <th>0</th>\n",
              "      <td>0</td>\n",
              "      <td>10</td>\n",
              "      <td>10</td>\n",
              "    </tr>\n",
              "    <tr>\n",
              "      <th>1</th>\n",
              "      <td>1</td>\n",
              "      <td>-20</td>\n",
              "      <td>-21</td>\n",
              "    </tr>\n",
              "    <tr>\n",
              "      <th>2</th>\n",
              "      <td>2</td>\n",
              "      <td>-30</td>\n",
              "      <td>-32</td>\n",
              "    </tr>\n",
              "    <tr>\n",
              "      <th>3</th>\n",
              "      <td>3</td>\n",
              "      <td>40</td>\n",
              "      <td>37</td>\n",
              "    </tr>\n",
              "    <tr>\n",
              "      <th>4</th>\n",
              "      <td>4</td>\n",
              "      <td>-50</td>\n",
              "      <td>-54</td>\n",
              "    </tr>\n",
              "  </tbody>\n",
              "</table>\n",
              "</div>"
            ],
            "text/plain": [
              "   y_true  y_pred  difference\n",
              "0       0      10          10\n",
              "1       1     -20         -21\n",
              "2       2     -30         -32\n",
              "3       3      40          37\n",
              "4       4     -50         -54"
            ]
          },
          "metadata": {
            "tags": []
          },
          "execution_count": 37
        }
      ]
    },
    {
      "cell_type": "code",
      "metadata": {
        "id": "zbTQ_a6ZechR",
        "colab": {
          "base_uri": "https://localhost:8080/"
        },
        "outputId": "19912f65-efd8-4b79-b4b7-2408cd063da6"
      },
      "source": [
        "variance = ((df['y_true'] - df['y_true'].mean()) ** 2).mean()\n",
        "print(f'Дисперсия выборки {variance}')"
      ],
      "execution_count": null,
      "outputs": [
        {
          "output_type": "stream",
          "text": [
            "Дисперсия выборки 2.0\n"
          ],
          "name": "stdout"
        }
      ]
    },
    {
      "cell_type": "code",
      "metadata": {
        "id": "Fjr1EgrMfCVx",
        "colab": {
          "base_uri": "https://localhost:8080/"
        },
        "outputId": "f9ae9d49-e2ff-4107-b702-3499a0f61a7f"
      },
      "source": [
        "mse = ((df['y_true'] - df['y_pred']) ** 2).mean()\n",
        "print(f'MSE {mse}')"
      ],
      "execution_count": null,
      "outputs": [
        {
          "output_type": "stream",
          "text": [
            "MSE 1170.0\n"
          ],
          "name": "stdout"
        }
      ]
    },
    {
      "cell_type": "markdown",
      "metadata": {
        "id": "mv8_egfVfO92"
      },
      "source": [
        "Полученная MSE гораздо больше дисперсии выборки, из-за этого и получается большое число при делении MSE на MSE константной модели, которая везде отвечает среднее по выборке."
      ]
    },
    {
      "cell_type": "code",
      "metadata": {
        "id": "4UkZGwqHfY_3",
        "colab": {
          "base_uri": "https://localhost:8080/"
        },
        "outputId": "c0e9266a-d0ae-4207-c952-2c2203058d72"
      },
      "source": [
        "mse / variance"
      ],
      "execution_count": null,
      "outputs": [
        {
          "output_type": "execute_result",
          "data": {
            "text/plain": [
              "585.0"
            ]
          },
          "metadata": {
            "tags": []
          },
          "execution_count": 40
        }
      ]
    },
    {
      "cell_type": "markdown",
      "metadata": {
        "id": "aY4JXwmtfcwm"
      },
      "source": [
        "Вычитая полученное число из 1 и получается отрицательное значение:"
      ]
    },
    {
      "cell_type": "code",
      "metadata": {
        "id": "ynVQU32CfhZS",
        "colab": {
          "base_uri": "https://localhost:8080/"
        },
        "outputId": "ade21032-cc3a-475b-ffda-e2885d55a59a"
      },
      "source": [
        "1 - mse / variance"
      ],
      "execution_count": null,
      "outputs": [
        {
          "output_type": "execute_result",
          "data": {
            "text/plain": [
              "-584.0"
            ]
          },
          "metadata": {
            "tags": []
          },
          "execution_count": 41
        }
      ]
    },
    {
      "cell_type": "markdown",
      "metadata": {
        "id": "cfX6ys6ffkjo"
      },
      "source": [
        "Или же сразу могли посчитать метрику $R^2$ через sklearn."
      ]
    },
    {
      "cell_type": "code",
      "metadata": {
        "id": "1D4BWiiTeYpK",
        "colab": {
          "base_uri": "https://localhost:8080/"
        },
        "outputId": "e6696eb1-b6e2-4ff4-9ab6-e77ba38ffec3"
      },
      "source": [
        "r2_score(y_true, y_pred)"
      ],
      "execution_count": null,
      "outputs": [
        {
          "output_type": "execute_result",
          "data": {
            "text/plain": [
              "-584.0"
            ]
          },
          "metadata": {
            "tags": []
          },
          "execution_count": 42
        }
      ]
    },
    {
      "cell_type": "markdown",
      "metadata": {
        "id": "4DdPOeYIePqc"
      },
      "source": [
        "Пугаться этого не стоит, а нужно исправить модель, возможно модель переобучилась, либо при предсказывании объектов была использована неправильная предобработка данных."
      ]
    },
    {
      "cell_type": "markdown",
      "metadata": {
        "id": "IoHK1woXcHkk"
      },
      "source": [
        "## Summary"
      ]
    },
    {
      "cell_type": "markdown",
      "metadata": {
        "id": "pvDOFeDgcK-i"
      },
      "source": [
        "<table>\n",
        "\n",
        "<tr>\n",
        "<td>\n",
        "Метрика\n",
        "</td>\n",
        "\n",
        "<td>\n",
        "Формула\n",
        "</td>\n",
        "\n",
        "<td>\n",
        "Диапазоны значений\n",
        "</td>\n",
        "\n",
        "<td>\n",
        "Идеальное значение\n",
        "</td>\n",
        "</tr>\n",
        "\n",
        "<tr>\n",
        "<td>\n",
        "MAE (mean absolute error, средне-абсолютная ошибка)\n",
        "</td>\n",
        "\n",
        "<td>\n",
        "$$MAE = \\frac{1}{n}\\sum_i^n{|y - y_{pred}|}$$\n",
        "\n",
        "</td>\n",
        "\n",
        "<td>\n",
        "[0, +$\\infty$)\n",
        "</td>\n",
        "\n",
        "<td>\n",
        "0\n",
        "</td>\n",
        "</tr>\n",
        "\n",
        "<tr>\n",
        "<td>\n",
        "MSE (mean squared error, средне-квадратичная ошибка)\n",
        "\n",
        "</td>\n",
        "\n",
        "<td>\n",
        "$$MSE = \\frac{1}{n}\\sum_i^n{(y - y_{pred})^2}$$\n",
        "\n",
        "</td>\n",
        "\n",
        "<td>\n",
        "[0, +$\\infty$)\n",
        "</td>\n",
        "\n",
        "<td>\n",
        "0\n",
        "</td>\n",
        "</tr>\n",
        "\n",
        "<tr>\n",
        "<td>\n",
        "RMSE (root mean squared error).\n",
        "\n",
        "</td>\n",
        "\n",
        "<td>\n",
        "$$RMSE = \\sqrt{\\frac{1}{n}\\sum_i^n{(y - y_{pred})^2}}$$\n",
        "\n",
        "</td>\n",
        "\n",
        "<td>\n",
        "[0, +$\\infty$)\n",
        "</td>\n",
        "\n",
        "<td>\n",
        "0\n",
        "</td>\n",
        "</tr>\n",
        "\n",
        "<tr>\n",
        "<td>\n",
        "Коэффициент детерминации $R^{2}$\n",
        "\n",
        "</td>\n",
        "\n",
        "<td>\n",
        "$$R^2 = 1 - \\frac{\\frac{1}{n}\\sum^{n}_{i}{(y - y_{pred})^2}}{\\frac{1}{n}\\sum^{n}_{i}{(y - \\bar{y})^2}}$$\n",
        "\n",
        "</td>\n",
        "\n",
        "<td>\n",
        "(-$\\infty$, 1]\n",
        "\n",
        "</td>\n",
        "\n",
        "<td>\n",
        "1\n",
        "</td>\n",
        "</tr>\n",
        "</table>"
      ]
    },
    {
      "cell_type": "markdown",
      "metadata": {
        "id": "QW0xL8P8hkxY"
      },
      "source": [
        "Метрики используются для того, чтобы получить цифру оценки работы обученной модели, чтобы уже заранее знать, чего ожидать от модели, когда ей будем давать реальные данные, а так же метрики мы можем использовать для обнаружения переобучения/недообучения."
      ]
    }
  ]
}