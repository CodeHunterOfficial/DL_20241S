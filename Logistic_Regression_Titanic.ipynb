{
  "cells": [
    {
      "cell_type": "markdown",
      "metadata": {
        "id": "view-in-github",
        "colab_type": "text"
      },
      "source": [
        "<a href=\"https://colab.research.google.com/github/CodeHunterOfficial/DL_20241S/blob/main/Logistic_Regression_Titanic.ipynb\" target=\"_parent\"><img src=\"https://colab.research.google.com/assets/colab-badge.svg\" alt=\"Open In Colab\"/></a>"
      ]
    },
    {
      "cell_type": "code",
      "execution_count": 1,
      "id": "latin-train",
      "metadata": {
        "id": "latin-train"
      },
      "outputs": [],
      "source": [
        "import numpy as np\n",
        "import pandas as pd\n",
        "import matplotlib.pyplot as plt"
      ]
    },
    {
      "cell_type": "markdown",
      "id": "quality-anime",
      "metadata": {
        "id": "quality-anime"
      },
      "source": [
        "# Loading Dataset - Titanic"
      ]
    },
    {
      "cell_type": "code",
      "execution_count": 2,
      "id": "negative-lesson",
      "metadata": {
        "id": "negative-lesson"
      },
      "outputs": [],
      "source": [
        "X_train = pd.read_csv(\"train_X.csv\")\n",
        "Y_train = pd.read_csv(\"train_Y.csv\")\n",
        "\n",
        "X_test = pd.read_csv(\"test_X.csv\")\n",
        "Y_test = pd.read_csv(\"test_Y.csv\")"
      ]
    },
    {
      "cell_type": "code",
      "execution_count": 3,
      "id": "limited-borough",
      "metadata": {
        "colab": {
          "base_uri": "https://localhost:8080/",
          "height": 206
        },
        "id": "limited-borough",
        "outputId": "7a619a38-4b07-4cfe-89f2-f7d579384d59"
      },
      "outputs": [
        {
          "output_type": "execute_result",
          "data": {
            "text/plain": [
              "   Id  Pclass  Sex   Age  SibSp  Parch     Fare  Embarked\n",
              "0   0       3    0  22.0      1      0   7.2500         1\n",
              "1   1       1    1  38.0      1      0  71.2833         0\n",
              "2   2       3    1  26.0      0      0   7.9250         1\n",
              "3   3       1    1  35.0      1      0  53.1000         1\n",
              "4   4       3    0  35.0      0      0   8.0500         1"
            ],
            "text/html": [
              "\n",
              "  <div id=\"df-a016a300-21a2-4631-9621-0be0254aff82\" class=\"colab-df-container\">\n",
              "    <div>\n",
              "<style scoped>\n",
              "    .dataframe tbody tr th:only-of-type {\n",
              "        vertical-align: middle;\n",
              "    }\n",
              "\n",
              "    .dataframe tbody tr th {\n",
              "        vertical-align: top;\n",
              "    }\n",
              "\n",
              "    .dataframe thead th {\n",
              "        text-align: right;\n",
              "    }\n",
              "</style>\n",
              "<table border=\"1\" class=\"dataframe\">\n",
              "  <thead>\n",
              "    <tr style=\"text-align: right;\">\n",
              "      <th></th>\n",
              "      <th>Id</th>\n",
              "      <th>Pclass</th>\n",
              "      <th>Sex</th>\n",
              "      <th>Age</th>\n",
              "      <th>SibSp</th>\n",
              "      <th>Parch</th>\n",
              "      <th>Fare</th>\n",
              "      <th>Embarked</th>\n",
              "    </tr>\n",
              "  </thead>\n",
              "  <tbody>\n",
              "    <tr>\n",
              "      <th>0</th>\n",
              "      <td>0</td>\n",
              "      <td>3</td>\n",
              "      <td>0</td>\n",
              "      <td>22.0</td>\n",
              "      <td>1</td>\n",
              "      <td>0</td>\n",
              "      <td>7.2500</td>\n",
              "      <td>1</td>\n",
              "    </tr>\n",
              "    <tr>\n",
              "      <th>1</th>\n",
              "      <td>1</td>\n",
              "      <td>1</td>\n",
              "      <td>1</td>\n",
              "      <td>38.0</td>\n",
              "      <td>1</td>\n",
              "      <td>0</td>\n",
              "      <td>71.2833</td>\n",
              "      <td>0</td>\n",
              "    </tr>\n",
              "    <tr>\n",
              "      <th>2</th>\n",
              "      <td>2</td>\n",
              "      <td>3</td>\n",
              "      <td>1</td>\n",
              "      <td>26.0</td>\n",
              "      <td>0</td>\n",
              "      <td>0</td>\n",
              "      <td>7.9250</td>\n",
              "      <td>1</td>\n",
              "    </tr>\n",
              "    <tr>\n",
              "      <th>3</th>\n",
              "      <td>3</td>\n",
              "      <td>1</td>\n",
              "      <td>1</td>\n",
              "      <td>35.0</td>\n",
              "      <td>1</td>\n",
              "      <td>0</td>\n",
              "      <td>53.1000</td>\n",
              "      <td>1</td>\n",
              "    </tr>\n",
              "    <tr>\n",
              "      <th>4</th>\n",
              "      <td>4</td>\n",
              "      <td>3</td>\n",
              "      <td>0</td>\n",
              "      <td>35.0</td>\n",
              "      <td>0</td>\n",
              "      <td>0</td>\n",
              "      <td>8.0500</td>\n",
              "      <td>1</td>\n",
              "    </tr>\n",
              "  </tbody>\n",
              "</table>\n",
              "</div>\n",
              "    <div class=\"colab-df-buttons\">\n",
              "\n",
              "  <div class=\"colab-df-container\">\n",
              "    <button class=\"colab-df-convert\" onclick=\"convertToInteractive('df-a016a300-21a2-4631-9621-0be0254aff82')\"\n",
              "            title=\"Convert this dataframe to an interactive table.\"\n",
              "            style=\"display:none;\">\n",
              "\n",
              "  <svg xmlns=\"http://www.w3.org/2000/svg\" height=\"24px\" viewBox=\"0 -960 960 960\">\n",
              "    <path d=\"M120-120v-720h720v720H120Zm60-500h600v-160H180v160Zm220 220h160v-160H400v160Zm0 220h160v-160H400v160ZM180-400h160v-160H180v160Zm440 0h160v-160H620v160ZM180-180h160v-160H180v160Zm440 0h160v-160H620v160Z\"/>\n",
              "  </svg>\n",
              "    </button>\n",
              "\n",
              "  <style>\n",
              "    .colab-df-container {\n",
              "      display:flex;\n",
              "      gap: 12px;\n",
              "    }\n",
              "\n",
              "    .colab-df-convert {\n",
              "      background-color: #E8F0FE;\n",
              "      border: none;\n",
              "      border-radius: 50%;\n",
              "      cursor: pointer;\n",
              "      display: none;\n",
              "      fill: #1967D2;\n",
              "      height: 32px;\n",
              "      padding: 0 0 0 0;\n",
              "      width: 32px;\n",
              "    }\n",
              "\n",
              "    .colab-df-convert:hover {\n",
              "      background-color: #E2EBFA;\n",
              "      box-shadow: 0px 1px 2px rgba(60, 64, 67, 0.3), 0px 1px 3px 1px rgba(60, 64, 67, 0.15);\n",
              "      fill: #174EA6;\n",
              "    }\n",
              "\n",
              "    .colab-df-buttons div {\n",
              "      margin-bottom: 4px;\n",
              "    }\n",
              "\n",
              "    [theme=dark] .colab-df-convert {\n",
              "      background-color: #3B4455;\n",
              "      fill: #D2E3FC;\n",
              "    }\n",
              "\n",
              "    [theme=dark] .colab-df-convert:hover {\n",
              "      background-color: #434B5C;\n",
              "      box-shadow: 0px 1px 3px 1px rgba(0, 0, 0, 0.15);\n",
              "      filter: drop-shadow(0px 1px 2px rgba(0, 0, 0, 0.3));\n",
              "      fill: #FFFFFF;\n",
              "    }\n",
              "  </style>\n",
              "\n",
              "    <script>\n",
              "      const buttonEl =\n",
              "        document.querySelector('#df-a016a300-21a2-4631-9621-0be0254aff82 button.colab-df-convert');\n",
              "      buttonEl.style.display =\n",
              "        google.colab.kernel.accessAllowed ? 'block' : 'none';\n",
              "\n",
              "      async function convertToInteractive(key) {\n",
              "        const element = document.querySelector('#df-a016a300-21a2-4631-9621-0be0254aff82');\n",
              "        const dataTable =\n",
              "          await google.colab.kernel.invokeFunction('convertToInteractive',\n",
              "                                                    [key], {});\n",
              "        if (!dataTable) return;\n",
              "\n",
              "        const docLinkHtml = 'Like what you see? Visit the ' +\n",
              "          '<a target=\"_blank\" href=https://colab.research.google.com/notebooks/data_table.ipynb>data table notebook</a>'\n",
              "          + ' to learn more about interactive tables.';\n",
              "        element.innerHTML = '';\n",
              "        dataTable['output_type'] = 'display_data';\n",
              "        await google.colab.output.renderOutput(dataTable, element);\n",
              "        const docLink = document.createElement('div');\n",
              "        docLink.innerHTML = docLinkHtml;\n",
              "        element.appendChild(docLink);\n",
              "      }\n",
              "    </script>\n",
              "  </div>\n",
              "\n",
              "\n",
              "<div id=\"df-2b1ffa8e-93c9-4ac5-aafb-111740d1acf0\">\n",
              "  <button class=\"colab-df-quickchart\" onclick=\"quickchart('df-2b1ffa8e-93c9-4ac5-aafb-111740d1acf0')\"\n",
              "            title=\"Suggest charts\"\n",
              "            style=\"display:none;\">\n",
              "\n",
              "<svg xmlns=\"http://www.w3.org/2000/svg\" height=\"24px\"viewBox=\"0 0 24 24\"\n",
              "     width=\"24px\">\n",
              "    <g>\n",
              "        <path d=\"M19 3H5c-1.1 0-2 .9-2 2v14c0 1.1.9 2 2 2h14c1.1 0 2-.9 2-2V5c0-1.1-.9-2-2-2zM9 17H7v-7h2v7zm4 0h-2V7h2v10zm4 0h-2v-4h2v4z\"/>\n",
              "    </g>\n",
              "</svg>\n",
              "  </button>\n",
              "\n",
              "<style>\n",
              "  .colab-df-quickchart {\n",
              "      --bg-color: #E8F0FE;\n",
              "      --fill-color: #1967D2;\n",
              "      --hover-bg-color: #E2EBFA;\n",
              "      --hover-fill-color: #174EA6;\n",
              "      --disabled-fill-color: #AAA;\n",
              "      --disabled-bg-color: #DDD;\n",
              "  }\n",
              "\n",
              "  [theme=dark] .colab-df-quickchart {\n",
              "      --bg-color: #3B4455;\n",
              "      --fill-color: #D2E3FC;\n",
              "      --hover-bg-color: #434B5C;\n",
              "      --hover-fill-color: #FFFFFF;\n",
              "      --disabled-bg-color: #3B4455;\n",
              "      --disabled-fill-color: #666;\n",
              "  }\n",
              "\n",
              "  .colab-df-quickchart {\n",
              "    background-color: var(--bg-color);\n",
              "    border: none;\n",
              "    border-radius: 50%;\n",
              "    cursor: pointer;\n",
              "    display: none;\n",
              "    fill: var(--fill-color);\n",
              "    height: 32px;\n",
              "    padding: 0;\n",
              "    width: 32px;\n",
              "  }\n",
              "\n",
              "  .colab-df-quickchart:hover {\n",
              "    background-color: var(--hover-bg-color);\n",
              "    box-shadow: 0 1px 2px rgba(60, 64, 67, 0.3), 0 1px 3px 1px rgba(60, 64, 67, 0.15);\n",
              "    fill: var(--button-hover-fill-color);\n",
              "  }\n",
              "\n",
              "  .colab-df-quickchart-complete:disabled,\n",
              "  .colab-df-quickchart-complete:disabled:hover {\n",
              "    background-color: var(--disabled-bg-color);\n",
              "    fill: var(--disabled-fill-color);\n",
              "    box-shadow: none;\n",
              "  }\n",
              "\n",
              "  .colab-df-spinner {\n",
              "    border: 2px solid var(--fill-color);\n",
              "    border-color: transparent;\n",
              "    border-bottom-color: var(--fill-color);\n",
              "    animation:\n",
              "      spin 1s steps(1) infinite;\n",
              "  }\n",
              "\n",
              "  @keyframes spin {\n",
              "    0% {\n",
              "      border-color: transparent;\n",
              "      border-bottom-color: var(--fill-color);\n",
              "      border-left-color: var(--fill-color);\n",
              "    }\n",
              "    20% {\n",
              "      border-color: transparent;\n",
              "      border-left-color: var(--fill-color);\n",
              "      border-top-color: var(--fill-color);\n",
              "    }\n",
              "    30% {\n",
              "      border-color: transparent;\n",
              "      border-left-color: var(--fill-color);\n",
              "      border-top-color: var(--fill-color);\n",
              "      border-right-color: var(--fill-color);\n",
              "    }\n",
              "    40% {\n",
              "      border-color: transparent;\n",
              "      border-right-color: var(--fill-color);\n",
              "      border-top-color: var(--fill-color);\n",
              "    }\n",
              "    60% {\n",
              "      border-color: transparent;\n",
              "      border-right-color: var(--fill-color);\n",
              "    }\n",
              "    80% {\n",
              "      border-color: transparent;\n",
              "      border-right-color: var(--fill-color);\n",
              "      border-bottom-color: var(--fill-color);\n",
              "    }\n",
              "    90% {\n",
              "      border-color: transparent;\n",
              "      border-bottom-color: var(--fill-color);\n",
              "    }\n",
              "  }\n",
              "</style>\n",
              "\n",
              "  <script>\n",
              "    async function quickchart(key) {\n",
              "      const quickchartButtonEl =\n",
              "        document.querySelector('#' + key + ' button');\n",
              "      quickchartButtonEl.disabled = true;  // To prevent multiple clicks.\n",
              "      quickchartButtonEl.classList.add('colab-df-spinner');\n",
              "      try {\n",
              "        const charts = await google.colab.kernel.invokeFunction(\n",
              "            'suggestCharts', [key], {});\n",
              "      } catch (error) {\n",
              "        console.error('Error during call to suggestCharts:', error);\n",
              "      }\n",
              "      quickchartButtonEl.classList.remove('colab-df-spinner');\n",
              "      quickchartButtonEl.classList.add('colab-df-quickchart-complete');\n",
              "    }\n",
              "    (() => {\n",
              "      let quickchartButtonEl =\n",
              "        document.querySelector('#df-2b1ffa8e-93c9-4ac5-aafb-111740d1acf0 button');\n",
              "      quickchartButtonEl.style.display =\n",
              "        google.colab.kernel.accessAllowed ? 'block' : 'none';\n",
              "    })();\n",
              "  </script>\n",
              "</div>\n",
              "    </div>\n",
              "  </div>\n"
            ]
          },
          "metadata": {},
          "execution_count": 3
        }
      ],
      "source": [
        "X_train.head()"
      ]
    },
    {
      "cell_type": "code",
      "execution_count": 4,
      "id": "confident-pontiac",
      "metadata": {
        "id": "confident-pontiac"
      },
      "outputs": [],
      "source": [
        "X_train = X_train.drop(\"Id\", axis = 1)\n",
        "Y_train = Y_train.drop(\"Id\", axis = 1)\n",
        "X_test = X_test.drop(\"Id\", axis = 1)\n",
        "Y_test = Y_test.drop(\"Id\", axis = 1)"
      ]
    },
    {
      "cell_type": "markdown",
      "source": [
        "Этот  код удаляет столбец \"Id\" из наборов данных X_train, Y_train, X_test и Y_test. Он использует метод .drop() для удаления указанного столбца. Параметр axis=1 указывает, что мы удаляем столбец, а не строку."
      ],
      "metadata": {
        "id": "UZm_bAGyIpNx"
      },
      "id": "UZm_bAGyIpNx"
    },
    {
      "cell_type": "code",
      "execution_count": 5,
      "id": "novel-reform",
      "metadata": {
        "id": "novel-reform"
      },
      "outputs": [],
      "source": [
        "X_train = X_train.values\n",
        "Y_train = Y_train.values\n",
        "X_test = X_test.values\n",
        "Y_test = Y_test.values"
      ]
    },
    {
      "cell_type": "code",
      "execution_count": 6,
      "id": "inside-addition",
      "metadata": {
        "id": "inside-addition"
      },
      "outputs": [],
      "source": [
        "X_train = X_train.T\n",
        "Y_train = Y_train.reshape(1, X_train.shape[1])\n",
        "\n",
        "X_test = X_test.T\n",
        "Y_test = Y_test.reshape(1, X_test.shape[1])"
      ]
    },
    {
      "cell_type": "markdown",
      "source": [
        "Этот код выполняет операции с массивами данных.\n",
        "\n",
        "* X_train = X_train.T выполняет транспонирование массива X_train.\n",
        "* Y_train = Y_train.reshape(1, X_train.shape[1]) изменяет форму массива Y_train на (1, количество столбцов в X_train).\n",
        "\n",
        "Аналогично, для тестового набора данных:\n",
        "\n",
        "* X_test = X_test.T выполняет транспонирование массива X_test.\n",
        "* Y_test = Y_test.reshape(1, X_test.shape[1]) изменяет форму массива Y_test на (1, количество столбцов в X_test)."
      ],
      "metadata": {
        "id": "xiOvIYsEI4QT"
      },
      "id": "xiOvIYsEI4QT"
    },
    {
      "cell_type": "code",
      "execution_count": 7,
      "id": "accessible-force",
      "metadata": {
        "colab": {
          "base_uri": "https://localhost:8080/"
        },
        "id": "accessible-force",
        "outputId": "e72b06bd-9801-4d16-c5b7-dd70a75c1b97"
      },
      "outputs": [
        {
          "output_type": "stream",
          "name": "stdout",
          "text": [
            "Shape of X_train :  (7, 891)\n",
            "Shape of Y_train :  (1, 891)\n",
            "Shape of X_test :  (7, 418)\n",
            "Shape of Y_test :  (1, 418)\n"
          ]
        }
      ],
      "source": [
        "print(\"Shape of X_train : \", X_train.shape)\n",
        "print(\"Shape of Y_train : \", Y_train.shape)\n",
        "print(\"Shape of X_test : \", X_test.shape)\n",
        "print(\"Shape of Y_test : \", Y_test.shape)"
      ]
    },
    {
      "cell_type": "markdown",
      "id": "ambient-dimension",
      "metadata": {
        "id": "ambient-dimension"
      },
      "source": [
        "# Logistic Regression Overview :\n",
        "\n",
        "## Equations :\n",
        "\n",
        "$ W = \\begin{bmatrix}w_1 \\\\ w_2 \\\\ . \\\\ . \\\\ w_n \\end{bmatrix}_{ n x 1}$ ......... initialize with zeros\n",
        "\n",
        "$ B = single$  $weight/parameter $\n",
        "\n",
        "$ X = \\begin{bmatrix}. & . & .  \\\\ .  & . & .  \\\\ . & . & .  \\\\ . & . & .  \\\\ \\end{bmatrix}_{n x m}$\n",
        "\n",
        "$ Y = \\begin{bmatrix}. & . & . & . & . \\end{bmatrix}_{1 x m}$\n",
        "\n",
        "\n",
        "$\\sigma = \\frac{1}{(1 + e^{-x})}  $   ......... (sigmoid function)\n",
        "\n",
        "\n",
        "A = $\\sigma ( W^T*X + b ) $    ........ (probabilistic predictions of shape (1 x m ) )\n",
        "\n",
        "\n",
        "\n",
        "\n"
      ]
    },
    {
      "cell_type": "markdown",
      "source": [
        "![image.png](data:image/png;base64,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)"
      ],
      "metadata": {
        "id": "dnRR9BzJJydB"
      },
      "id": "dnRR9BzJJydB"
    },
    {
      "cell_type": "markdown",
      "source": [
        "\n",
        "## Cost function :\n",
        "\n",
        "$ cost = - \\frac{1}{m} \\sum_{i=1}^m [ y*log(a) + (1 - y)*log(1 - a) ] $\n",
        "\n",
        "## Gradient Descent\n",
        "\n",
        "$dW = \\frac{\\partial COST }{\\partial W} = ( A - Y )*X^T $ ...... shape (1 x n)\n",
        "\n",
        "$dB = \\frac{\\partial COST }{\\partial B} = ( A - Y ) $\n",
        "\n",
        "$W = W - \\alpha * dW^T $\n",
        "\n",
        "$B = B - \\alpha * dB $"
      ],
      "metadata": {
        "id": "r0DE18VuJxQT"
      },
      "id": "r0DE18VuJxQT"
    },
    {
      "cell_type": "markdown",
      "source": [
        "![image.png](data:image/png;base64,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)"
      ],
      "metadata": {
        "id": "kb42nVoXJqY6"
      },
      "id": "kb42nVoXJqY6"
    },
    {
      "cell_type": "markdown",
      "id": "rotary-reputation",
      "metadata": {
        "id": "rotary-reputation"
      },
      "source": [
        "# Model"
      ]
    },
    {
      "cell_type": "code",
      "execution_count": 8,
      "id": "removed-nomination",
      "metadata": {
        "id": "removed-nomination"
      },
      "outputs": [],
      "source": [
        "def sigmoid(x):\n",
        "    return 1/(1 + np.exp(-x))"
      ]
    },
    {
      "cell_type": "code",
      "execution_count": 9,
      "id": "aquatic-berry",
      "metadata": {
        "id": "aquatic-berry"
      },
      "outputs": [],
      "source": [
        "def model(X, Y, learning_rate, iterations):\n",
        "\n",
        "    m = X_train.shape[1]\n",
        "    n = X_train.shape[0]\n",
        "\n",
        "    W = np.zeros((n,1))\n",
        "    B = 0\n",
        "\n",
        "    cost_list = []\n",
        "\n",
        "    for i in range(iterations):\n",
        "\n",
        "        Z = np.dot(W.T, X) + B\n",
        "        A = sigmoid(Z)\n",
        "\n",
        "        # cost function\n",
        "        cost = -(1/m)*np.sum( Y*np.log(A) + (1-Y)*np.log(1-A))\n",
        "\n",
        "        # Gradient Descent\n",
        "        dW = (1/m)*np.dot(A-Y, X.T)\n",
        "        dB = (1/m)*np.sum(A - Y)\n",
        "\n",
        "        W = W - learning_rate*dW.T\n",
        "        B = B - learning_rate*dB\n",
        "\n",
        "        # Keeping track of our cost function value\n",
        "        cost_list.append(cost)\n",
        "\n",
        "        if(i%(iterations/10) == 0):\n",
        "            print(\"cost after \", i, \"iteration is : \", cost)\n",
        "\n",
        "    return W, B, cost_list\n",
        ""
      ]
    },
    {
      "cell_type": "code",
      "execution_count": 10,
      "id": "detailed-alert",
      "metadata": {
        "colab": {
          "base_uri": "https://localhost:8080/"
        },
        "id": "detailed-alert",
        "outputId": "5ec1f3ff-360c-41f3-a780-d570aea46b78"
      },
      "outputs": [
        {
          "output_type": "stream",
          "name": "stdout",
          "text": [
            "cost after  0 iteration is :  0.6931471805599454\n",
            "cost after  10000 iteration is :  0.49652777693895306\n",
            "cost after  20000 iteration is :  0.46674868550666\n",
            "cost after  30000 iteration is :  0.45687787762434423\n",
            "cost after  40000 iteration is :  0.45288994293089646\n",
            "cost after  50000 iteration is :  0.45093260252226425\n",
            "cost after  60000 iteration is :  0.4497708749009468\n",
            "cost after  70000 iteration is :  0.4489640829216279\n",
            "cost after  80000 iteration is :  0.44834126966124827\n",
            "cost after  90000 iteration is :  0.44783045246935776\n"
          ]
        }
      ],
      "source": [
        "iterations = 100000\n",
        "learning_rate = 0.0015\n",
        "W, B, cost_list = model(X_train, Y_train, learning_rate = learning_rate, iterations = iterations)"
      ]
    },
    {
      "cell_type": "markdown",
      "id": "chemical-broadcast",
      "metadata": {
        "id": "chemical-broadcast"
      },
      "source": [
        "### Cost vs Iteration\n",
        "Plotting graph to see if Cost Function is decreasing or not"
      ]
    },
    {
      "cell_type": "code",
      "execution_count": 11,
      "id": "outstanding-species",
      "metadata": {
        "colab": {
          "base_uri": "https://localhost:8080/",
          "height": 430
        },
        "id": "outstanding-species",
        "outputId": "f494cd98-cfee-495f-9e12-aabd16188381"
      },
      "outputs": [
        {
          "output_type": "display_data",
          "data": {
            "text/plain": [
              "<Figure size 640x480 with 1 Axes>"
            ],
            "image/png": "[encoded data removed]"
          },
          "metadata": {}
        }
      ],
      "source": [
        "plt.plot(np.arange(iterations), cost_list)\n",
        "plt.show()"
      ]
    },
    {
      "cell_type": "markdown",
      "id": "medieval-aircraft",
      "metadata": {
        "id": "medieval-aircraft"
      },
      "source": [
        "# Testing Model Accuracy"
      ]
    },
    {
      "cell_type": "code",
      "execution_count": 12,
      "id": "continental-realtor",
      "metadata": {
        "id": "continental-realtor"
      },
      "outputs": [],
      "source": [
        "def accuracy(X, Y, W, B):\n",
        "\n",
        "    Z = np.dot(W.T, X) + B\n",
        "    A = sigmoid(Z)\n",
        "\n",
        "    A = A > 0.5\n",
        "\n",
        "    A = np.array(A, dtype = 'int64')\n",
        "\n",
        "    acc = (1 - np.sum(np.absolute(A - Y))/Y.shape[1])*100\n",
        "\n",
        "    print(\"Accuracy of the model is : \", round(acc, 2), \"%\")"
      ]
    },
    {
      "cell_type": "code",
      "execution_count": 13,
      "id": "hungry-deviation",
      "metadata": {
        "colab": {
          "base_uri": "https://localhost:8080/"
        },
        "id": "hungry-deviation",
        "outputId": "d8a50ba7-eebf-40a7-a14b-bef837eb6419"
      },
      "outputs": [
        {
          "output_type": "stream",
          "name": "stdout",
          "text": [
            "Accuracy of the model is :  91.39 %\n"
          ]
        }
      ],
      "source": [
        "accuracy(X_test, Y_test, W, B)"
      ]
    },
    {
      "cell_type": "code",
      "source": [
        "def predict(X, W, B):\n",
        "    Z = np.dot(W.T, X) + B\n",
        "    A = sigmoid(Z)\n",
        "    predictions = (A > 0.5).astype(int)\n",
        "    return predictions"
      ],
      "metadata": {
        "id": "1zKKHgm4Lcqp"
      },
      "id": "1zKKHgm4Lcqp",
      "execution_count": 16,
      "outputs": []
    },
    {
      "cell_type": "code",
      "source": [
        "# Пример новых данных для прогнозирования\n",
        "new_data = np.array([3,\t0,\t134.5,\t0,\t0,\t7.8292,2])\n",
        "\n",
        "\n",
        "# Прогнозирование новых данных\n",
        "new_data_predictions = predict(new_data, W, B)\n",
        "print(new_data_predictions)"
      ],
      "metadata": {
        "colab": {
          "base_uri": "https://localhost:8080/"
        },
        "id": "in7RExvELriP",
        "outputId": "c6d2ace3-4b33-4241-a667-cf35fe9c9db8"
      },
      "id": "in7RExvELriP",
      "execution_count": 50,
      "outputs": [
        {
          "output_type": "stream",
          "name": "stdout",
          "text": [
            "[0]\n"
          ]
        }
      ]
    },
    {
      "cell_type": "code",
      "source": [
        "# Пример новых данных для прогнозирования\n",
        "new_data = np.array([3,\t1,\t47.0,\t1,\t0,\t7.0,\t1])\n",
        "\n",
        "\n",
        "# Прогнозирование новых данных\n",
        "new_data_predictions = predict(new_data, W, B)\n",
        "print(new_data_predictions)"
      ],
      "metadata": {
        "colab": {
          "base_uri": "https://localhost:8080/"
        },
        "id": "102SgYfROtDW",
        "outputId": "254e5ba5-b2d2-4306-fb87-b8c224e5a6cd"
      },
      "id": "102SgYfROtDW",
      "execution_count": 51,
      "outputs": [
        {
          "output_type": "stream",
          "name": "stdout",
          "text": [
            "[0]\n"
          ]
        }
      ]
    },
    {
      "cell_type": "code",
      "source": [
        "import numpy as np\n",
        "\n",
        "# Создание 10 разных наборов новых данных\n",
        "new_data_sets = []\n",
        "for _ in range(10):\n",
        "    new_data = np.array([3, 0, 134.5, 0, 0, 7.8292, 2])  # Используем заданный набор данных\n",
        "    perturbation = np.random.normal(0, 51, new_data.shape)  # Добавляем случайный шум к каждому признаку\n",
        "    new_data_with_perturbation = new_data + perturbation\n",
        "    new_data_sets.append(new_data_with_perturbation)\n",
        "\n",
        "# Прогнозирование для каждого набора новых данных\n",
        "for new_data in new_data_sets:\n",
        "    new_data_predictions = predict(np.array([new_data]).T, W, B)\n",
        "    print(new_data_predictions)"
      ],
      "metadata": {
        "colab": {
          "base_uri": "https://localhost:8080/"
        },
        "id": "64TZV98KOVoj",
        "outputId": "22b142ea-cb5d-400d-ebba-e3b10a1eb816"
      },
      "id": "64TZV98KOVoj",
      "execution_count": 33,
      "outputs": [
        {
          "output_type": "stream",
          "name": "stdout",
          "text": [
            "[[1]]\n",
            "[[1]]\n",
            "[[0]]\n",
            "[[0]]\n",
            "[[1]]\n",
            "[[0]]\n",
            "[[0]]\n",
            "[[1]]\n",
            "[[0]]\n",
            "[[0]]\n"
          ]
        }
      ]
    },
    {
      "cell_type": "code",
      "source": [
        "from sklearn.impute import SimpleImputer\n",
        "\n",
        "# Создание объекта импьютации\n",
        "imputer = SimpleImputer(strategy='mean')  # Можно выбрать другие стратегии, такие как 'median' или 'most_frequent'\n",
        "\n",
        "# Применение импьютации к обучающему и тестовому наборам данных\n",
        "X_train_imputed = imputer.fit_transform(X_train)\n",
        "X_test_imputed = imputer.transform(X_test)\n",
        "\n",
        "# Создание и обучение модели логистической регрессии\n",
        "model = LogisticRegression()\n",
        "model.fit(X_train_imputed, Y_train)\n",
        "\n",
        "# Прогнозирование на тестовом наборе данных\n",
        "predictions_test = model.predict(X_test_imputed)\n",
        "\n",
        "# Оценка качества прогнозирования на тестовом наборе\n",
        "accuracy_test = accuracy_score(Y_test, predictions_test)\n",
        "print(\"Accuracy on test set:\", accuracy_test)"
      ],
      "metadata": {
        "colab": {
          "base_uri": "https://localhost:8080/"
        },
        "id": "ZGBav_LGWyoY",
        "outputId": "7a9cc9c9-f2d4-41b2-e9f9-32d95454e56b"
      },
      "id": "ZGBav_LGWyoY",
      "execution_count": 45,
      "outputs": [
        {
          "output_type": "stream",
          "name": "stdout",
          "text": [
            "Accuracy on test set: 0.9521531100478469\n"
          ]
        }
      ]
    },
    {
      "cell_type": "code",
      "source": [
        "import matplotlib.pyplot as plt\n",
        "import numpy as np\n",
        "from sklearn.model_selection import learning_curve, validation_curve\n",
        "from sklearn.model_selection import cross_val_score\n",
        "from sklearn.metrics import roc_curve, auc\n",
        "from sklearn.model_selection import StratifiedKFold\n",
        "\n",
        "# Функция для построения кривой обучения\n",
        "def plot_learning_curve(estimator, title, X, y, ylim=None, cv=None,\n",
        "                        n_jobs=1, train_sizes=np.linspace(.1, 1.0, 5)):\n",
        "    plt.figure()\n",
        "    plt.title(title)\n",
        "    if ylim is not None:\n",
        "        plt.ylim(*ylim)\n",
        "    plt.xlabel(\"Training examples\")\n",
        "    plt.ylabel(\"Score\")\n",
        "    train_sizes, train_scores, test_scores = learning_curve(\n",
        "        estimator, X, y, cv=cv, n_jobs=n_jobs, train_sizes=train_sizes)\n",
        "    train_scores_mean = np.mean(train_scores, axis=1)\n",
        "    train_scores_std = np.std(train_scores, axis=1)\n",
        "    test_scores_mean = np.mean(test_scores, axis=1)\n",
        "    test_scores_std = np.std(test_scores, axis=1)\n",
        "    plt.grid()\n",
        "\n",
        "    plt.fill_between(train_sizes, train_scores_mean - train_scores_std,\n",
        "                     train_scores_mean + train_scores_std, alpha=0.1,\n",
        "                     color=\"r\")\n",
        "    plt.fill_between(train_sizes, test_scores_mean - test_scores_std,\n",
        "                     test_scores_mean + test_scores_std, alpha=0.1, color=\"g\")\n",
        "    plt.plot(train_sizes, train_scores_mean, 'o-', color=\"r\",\n",
        "             label=\"Training score\")\n",
        "    plt.plot(train_sizes, test_scores_mean, 'o-', color=\"g\",\n",
        "             label=\"Cross-validation score\")\n",
        "\n",
        "    plt.legend(loc=\"best\")\n",
        "    return plt\n",
        "\n",
        "# Функция для построения ROC-кривой\n",
        "def plot_roc_curve(estimator, X_test, y_test):\n",
        "    probas_ = estimator.predict_proba(X_test)\n",
        "    fpr, tpr, thresholds = roc_curve(y_test, probas_[:, 1])\n",
        "    roc_auc = auc(fpr, tpr)\n",
        "    plt.figure()\n",
        "    lw = 2\n",
        "    plt.plot(fpr, tpr, color='darkorange',\n",
        "             lw=lw, label='ROC curve (area = %0.2f)' % roc_auc)\n",
        "    plt.plot([0, 1], [0, 1], color='navy', lw=lw, linestyle='--')\n",
        "    plt.xlim([0.0, 1.0])\n",
        "    plt.ylim([0.0, 1.05])\n",
        "    plt.xlabel('False Positive Rate')\n",
        "    plt.ylabel('True Positive Rate')\n",
        "    plt.title('Receiver Operating Characteristic')\n",
        "    plt.legend(loc=\"lower right\")\n",
        "    return plt\n",
        "\n",
        "# Создание модели и обучение\n",
        "model = LogisticRegression()\n",
        "model.fit(X_train_imputed, Y_train)\n",
        "\n",
        "# Построение кривой обучения\n",
        "cv = StratifiedKFold(n_splits=5)\n",
        "plot_learning_curve(model, \"Learning Curve\", X_train_imputed, Y_train, cv=cv)\n",
        "\n",
        "# Построение ROC-кривой\n",
        "plot_roc_curve(model, X_test_imputed, Y_test)\n",
        "\n",
        "plt.show()\n"
      ],
      "metadata": {
        "colab": {
          "base_uri": "https://localhost:8080/",
          "height": 1000
        },
        "id": "csW3HjWyT8p-",
        "outputId": "3b0477f1-1c19-43ae-edfa-9a541abc6b3a"
      },
      "id": "csW3HjWyT8p-",
      "execution_count": 48,
      "outputs": [
        {
          "output_type": "stream",
          "name": "stderr",
          "text": [
            "/usr/local/lib/python3.10/dist-packages/sklearn/linear_model/_logistic.py:458: ConvergenceWarning: lbfgs failed to converge (status=1):\n",
            "STOP: TOTAL NO. of ITERATIONS REACHED LIMIT.\n",
            "\n",
            "Increase the number of iterations (max_iter) or scale the data as shown in:\n",
            "    https://scikit-learn.org/stable/modules/preprocessing.html\n",
            "Please also refer to the documentation for alternative solver options:\n",
            "    https://scikit-learn.org/stable/modules/linear_model.html#logistic-regression\n",
            "  n_iter_i = _check_optimize_result(\n",
            "/usr/local/lib/python3.10/dist-packages/sklearn/linear_model/_logistic.py:458: ConvergenceWarning: lbfgs failed to converge (status=1):\n",
            "STOP: TOTAL NO. of ITERATIONS REACHED LIMIT.\n",
            "\n",
            "Increase the number of iterations (max_iter) or scale the data as shown in:\n",
            "    https://scikit-learn.org/stable/modules/preprocessing.html\n",
            "Please also refer to the documentation for alternative solver options:\n",
            "    https://scikit-learn.org/stable/modules/linear_model.html#logistic-regression\n",
            "  n_iter_i = _check_optimize_result(\n",
            "/usr/local/lib/python3.10/dist-packages/sklearn/linear_model/_logistic.py:458: ConvergenceWarning: lbfgs failed to converge (status=1):\n",
            "STOP: TOTAL NO. of ITERATIONS REACHED LIMIT.\n",
            "\n",
            "Increase the number of iterations (max_iter) or scale the data as shown in:\n",
            "    https://scikit-learn.org/stable/modules/preprocessing.html\n",
            "Please also refer to the documentation for alternative solver options:\n",
            "    https://scikit-learn.org/stable/modules/linear_model.html#logistic-regression\n",
            "  n_iter_i = _check_optimize_result(\n",
            "/usr/local/lib/python3.10/dist-packages/sklearn/linear_model/_logistic.py:458: ConvergenceWarning: lbfgs failed to converge (status=1):\n",
            "STOP: TOTAL NO. of ITERATIONS REACHED LIMIT.\n",
            "\n",
            "Increase the number of iterations (max_iter) or scale the data as shown in:\n",
            "    https://scikit-learn.org/stable/modules/preprocessing.html\n",
            "Please also refer to the documentation for alternative solver options:\n",
            "    https://scikit-learn.org/stable/modules/linear_model.html#logistic-regression\n",
            "  n_iter_i = _check_optimize_result(\n",
            "/usr/local/lib/python3.10/dist-packages/sklearn/linear_model/_logistic.py:458: ConvergenceWarning: lbfgs failed to converge (status=1):\n",
            "STOP: TOTAL NO. of ITERATIONS REACHED LIMIT.\n",
            "\n",
            "Increase the number of iterations (max_iter) or scale the data as shown in:\n",
            "    https://scikit-learn.org/stable/modules/preprocessing.html\n",
            "Please also refer to the documentation for alternative solver options:\n",
            "    https://scikit-learn.org/stable/modules/linear_model.html#logistic-regression\n",
            "  n_iter_i = _check_optimize_result(\n",
            "/usr/local/lib/python3.10/dist-packages/sklearn/linear_model/_logistic.py:458: ConvergenceWarning: lbfgs failed to converge (status=1):\n",
            "STOP: TOTAL NO. of ITERATIONS REACHED LIMIT.\n",
            "\n",
            "Increase the number of iterations (max_iter) or scale the data as shown in:\n",
            "    https://scikit-learn.org/stable/modules/preprocessing.html\n",
            "Please also refer to the documentation for alternative solver options:\n",
            "    https://scikit-learn.org/stable/modules/linear_model.html#logistic-regression\n",
            "  n_iter_i = _check_optimize_result(\n",
            "/usr/local/lib/python3.10/dist-packages/sklearn/linear_model/_logistic.py:458: ConvergenceWarning: lbfgs failed to converge (status=1):\n",
            "STOP: TOTAL NO. of ITERATIONS REACHED LIMIT.\n",
            "\n",
            "Increase the number of iterations (max_iter) or scale the data as shown in:\n",
            "    https://scikit-learn.org/stable/modules/preprocessing.html\n",
            "Please also refer to the documentation for alternative solver options:\n",
            "    https://scikit-learn.org/stable/modules/linear_model.html#logistic-regression\n",
            "  n_iter_i = _check_optimize_result(\n",
            "/usr/local/lib/python3.10/dist-packages/sklearn/linear_model/_logistic.py:458: ConvergenceWarning: lbfgs failed to converge (status=1):\n",
            "STOP: TOTAL NO. of ITERATIONS REACHED LIMIT.\n",
            "\n",
            "Increase the number of iterations (max_iter) or scale the data as shown in:\n",
            "    https://scikit-learn.org/stable/modules/preprocessing.html\n",
            "Please also refer to the documentation for alternative solver options:\n",
            "    https://scikit-learn.org/stable/modules/linear_model.html#logistic-regression\n",
            "  n_iter_i = _check_optimize_result(\n",
            "/usr/local/lib/python3.10/dist-packages/sklearn/linear_model/_logistic.py:458: ConvergenceWarning: lbfgs failed to converge (status=1):\n",
            "STOP: TOTAL NO. of ITERATIONS REACHED LIMIT.\n",
            "\n",
            "Increase the number of iterations (max_iter) or scale the data as shown in:\n",
            "    https://scikit-learn.org/stable/modules/preprocessing.html\n",
            "Please also refer to the documentation for alternative solver options:\n",
            "    https://scikit-learn.org/stable/modules/linear_model.html#logistic-regression\n",
            "  n_iter_i = _check_optimize_result(\n",
            "/usr/local/lib/python3.10/dist-packages/sklearn/linear_model/_logistic.py:458: ConvergenceWarning: lbfgs failed to converge (status=1):\n",
            "STOP: TOTAL NO. of ITERATIONS REACHED LIMIT.\n",
            "\n",
            "Increase the number of iterations (max_iter) or scale the data as shown in:\n",
            "    https://scikit-learn.org/stable/modules/preprocessing.html\n",
            "Please also refer to the documentation for alternative solver options:\n",
            "    https://scikit-learn.org/stable/modules/linear_model.html#logistic-regression\n",
            "  n_iter_i = _check_optimize_result(\n",
            "/usr/local/lib/python3.10/dist-packages/sklearn/linear_model/_logistic.py:458: ConvergenceWarning: lbfgs failed to converge (status=1):\n",
            "STOP: TOTAL NO. of ITERATIONS REACHED LIMIT.\n",
            "\n",
            "Increase the number of iterations (max_iter) or scale the data as shown in:\n",
            "    https://scikit-learn.org/stable/modules/preprocessing.html\n",
            "Please also refer to the documentation for alternative solver options:\n",
            "    https://scikit-learn.org/stable/modules/linear_model.html#logistic-regression\n",
            "  n_iter_i = _check_optimize_result(\n",
            "/usr/local/lib/python3.10/dist-packages/sklearn/linear_model/_logistic.py:458: ConvergenceWarning: lbfgs failed to converge (status=1):\n",
            "STOP: TOTAL NO. of ITERATIONS REACHED LIMIT.\n",
            "\n",
            "Increase the number of iterations (max_iter) or scale the data as shown in:\n",
            "    https://scikit-learn.org/stable/modules/preprocessing.html\n",
            "Please also refer to the documentation for alternative solver options:\n",
            "    https://scikit-learn.org/stable/modules/linear_model.html#logistic-regression\n",
            "  n_iter_i = _check_optimize_result(\n",
            "/usr/local/lib/python3.10/dist-packages/sklearn/linear_model/_logistic.py:458: ConvergenceWarning: lbfgs failed to converge (status=1):\n",
            "STOP: TOTAL NO. of ITERATIONS REACHED LIMIT.\n",
            "\n",
            "Increase the number of iterations (max_iter) or scale the data as shown in:\n",
            "    https://scikit-learn.org/stable/modules/preprocessing.html\n",
            "Please also refer to the documentation for alternative solver options:\n",
            "    https://scikit-learn.org/stable/modules/linear_model.html#logistic-regression\n",
            "  n_iter_i = _check_optimize_result(\n",
            "/usr/local/lib/python3.10/dist-packages/sklearn/linear_model/_logistic.py:458: ConvergenceWarning: lbfgs failed to converge (status=1):\n",
            "STOP: TOTAL NO. of ITERATIONS REACHED LIMIT.\n",
            "\n",
            "Increase the number of iterations (max_iter) or scale the data as shown in:\n",
            "    https://scikit-learn.org/stable/modules/preprocessing.html\n",
            "Please also refer to the documentation for alternative solver options:\n",
            "    https://scikit-learn.org/stable/modules/linear_model.html#logistic-regression\n",
            "  n_iter_i = _check_optimize_result(\n",
            "/usr/local/lib/python3.10/dist-packages/sklearn/linear_model/_logistic.py:458: ConvergenceWarning: lbfgs failed to converge (status=1):\n",
            "STOP: TOTAL NO. of ITERATIONS REACHED LIMIT.\n",
            "\n",
            "Increase the number of iterations (max_iter) or scale the data as shown in:\n",
            "    https://scikit-learn.org/stable/modules/preprocessing.html\n",
            "Please also refer to the documentation for alternative solver options:\n",
            "    https://scikit-learn.org/stable/modules/linear_model.html#logistic-regression\n",
            "  n_iter_i = _check_optimize_result(\n",
            "/usr/local/lib/python3.10/dist-packages/sklearn/linear_model/_logistic.py:458: ConvergenceWarning: lbfgs failed to converge (status=1):\n",
            "STOP: TOTAL NO. of ITERATIONS REACHED LIMIT.\n",
            "\n",
            "Increase the number of iterations (max_iter) or scale the data as shown in:\n",
            "    https://scikit-learn.org/stable/modules/preprocessing.html\n",
            "Please also refer to the documentation for alternative solver options:\n",
            "    https://scikit-learn.org/stable/modules/linear_model.html#logistic-regression\n",
            "  n_iter_i = _check_optimize_result(\n"
          ]
        },
        {
          "output_type": "display_data",
          "data": {
            "text/plain": [
              "<Figure size 640x480 with 1 Axes>"
            ],
            "image/png": "[encoded data removed]"
          },
          "metadata": {}
        },
        {
          "output_type": "display_data",
          "data": {
            "text/plain": [
              "<Figure size 640x480 with 1 Axes>"
            ],
            "image/png": "[encoded data removed]"
          },
          "metadata": {}
        }
      ]
    },
    {
      "cell_type": "code",
      "source": [
        "# Пример новых данных для прогнозирования\n",
        "new_data = np.array([[3, 0, 134.5, 0, 0, 7.92, 0]])\n",
        "\n",
        "# Прогнозирование на основе новых данных\n",
        "prediction_new_data = model.predict(new_data)\n",
        "print(\"Prediction for new data:\", prediction_new_data)"
      ],
      "metadata": {
        "colab": {
          "base_uri": "https://localhost:8080/"
        },
        "id": "Yzl2S3VdUVVN",
        "outputId": "dd73e9cc-392e-43f2-b17c-fcf806b10f3f"
      },
      "id": "Yzl2S3VdUVVN",
      "execution_count": 57,
      "outputs": [
        {
          "output_type": "stream",
          "name": "stdout",
          "text": [
            "Prediction for new data: [0]\n"
          ]
        }
      ]
    },
    {
      "cell_type": "code",
      "source": [
        "import numpy as np\n",
        "\n",
        "# Создание 10 разных наборов новых данных\n",
        "new_data_sets = []\n",
        "for _ in range(10):\n",
        "    new_data = np.array([3, 0, 134.5, 0, 0, 7.8292, 1])  # Используем заданный набор данных\n",
        "    perturbation = np.random.normal(0, 51, new_data.shape)  # Добавляем случайный шум к каждому признаку\n",
        "    new_data_with_perturbation = new_data + perturbation\n",
        "    new_data_sets.append(new_data_with_perturbation)\n",
        "\n",
        "# Прогнозирование для каждого набора новых данных\n",
        "for new_data in new_data_sets:\n",
        "    new_data_predictions = predict(np.array([new_data]).T, W, B)\n",
        "    print(new_data_predictions)"
      ],
      "metadata": {
        "colab": {
          "base_uri": "https://localhost:8080/"
        },
        "id": "mf6j34acYRXg",
        "outputId": "d86ddff1-f0f3-4ef0-b15b-70e5abfa4c80"
      },
      "id": "mf6j34acYRXg",
      "execution_count": 59,
      "outputs": [
        {
          "output_type": "stream",
          "name": "stdout",
          "text": [
            "[[1]]\n",
            "[[1]]\n",
            "[[0]]\n",
            "[[1]]\n",
            "[[0]]\n",
            "[[0]]\n",
            "[[1]]\n",
            "[[0]]\n",
            "[[0]]\n",
            "[[1]]\n"
          ]
        }
      ]
    }
  ],
  "metadata": {
    "kernelspec": {
      "display_name": "Python 3",
      "language": "python",
      "name": "python3"
    },
    "language_info": {
      "codemirror_mode": {
        "name": "ipython",
        "version": 3
      },
      "file_extension": ".py",
      "mimetype": "text/x-python",
      "name": "python",
      "nbconvert_exporter": "python",
      "pygments_lexer": "ipython3",
      "version": "3.7.8"
    },
    "colab": {
      "provenance": [],
      "include_colab_link": true
    }
  },
  "nbformat": 4,
  "nbformat_minor": 5
}